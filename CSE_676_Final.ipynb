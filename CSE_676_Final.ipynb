{
  "nbformat": 4,
  "nbformat_minor": 0,
  "metadata": {
    "colab": {
      "provenance": []
    },
    "kernelspec": {
      "name": "python3",
      "display_name": "Python 3"
    },
    "language_info": {
      "name": "python"
    }
  },
  "cells": [
    {
      "cell_type": "code",
      "execution_count": 1,
      "metadata": {
        "colab": {
          "base_uri": "https://localhost:8080/"
        },
        "id": "ai59zz8xPhet",
        "outputId": "b7451690-1e9c-43e5-9414-ed4a804bd1b7"
      },
      "outputs": [
        {
          "output_type": "stream",
          "name": "stdout",
          "text": [
            "Looking in indexes: https://pypi.org/simple, https://us-python.pkg.dev/colab-wheels/public/simple/\n",
            "Collecting tf_agents\n",
            "  Downloading tf_agents-0.16.0-py3-none-any.whl (1.4 MB)\n",
            "\u001b[2K     \u001b[90m━━━━━━━━━━━━━━━━━━━━━━━━━━━━━━━━━━━━━━━━\u001b[0m \u001b[32m1.4/1.4 MB\u001b[0m \u001b[31m17.8 MB/s\u001b[0m eta \u001b[36m0:00:00\u001b[0m\n",
            "\u001b[?25hRequirement already satisfied: absl-py>=0.6.1 in /usr/local/lib/python3.10/dist-packages (from tf_agents) (1.4.0)\n",
            "Requirement already satisfied: cloudpickle>=1.3 in /usr/local/lib/python3.10/dist-packages (from tf_agents) (2.2.1)\n",
            "Requirement already satisfied: gin-config>=0.4.0 in /usr/local/lib/python3.10/dist-packages (from tf_agents) (0.5.0)\n",
            "Collecting gym<=0.23.0,>=0.17.0 (from tf_agents)\n",
            "  Downloading gym-0.23.0.tar.gz (624 kB)\n",
            "\u001b[2K     \u001b[90m━━━━━━━━━━━━━━━━━━━━━━━━━━━━━━━━━━━━━━\u001b[0m \u001b[32m624.4/624.4 kB\u001b[0m \u001b[31m45.7 MB/s\u001b[0m eta \u001b[36m0:00:00\u001b[0m\n",
            "\u001b[?25h  Installing build dependencies ... \u001b[?25l\u001b[?25hdone\n",
            "  Getting requirements to build wheel ... \u001b[?25l\u001b[?25hdone\n",
            "  Preparing metadata (pyproject.toml) ... \u001b[?25l\u001b[?25hdone\n",
            "Requirement already satisfied: numpy>=1.19.0 in /usr/local/lib/python3.10/dist-packages (from tf_agents) (1.22.4)\n",
            "Requirement already satisfied: pillow in /usr/local/lib/python3.10/dist-packages (from tf_agents) (8.4.0)\n",
            "Requirement already satisfied: six>=1.10.0 in /usr/local/lib/python3.10/dist-packages (from tf_agents) (1.16.0)\n",
            "Requirement already satisfied: protobuf>=3.11.3 in /usr/local/lib/python3.10/dist-packages (from tf_agents) (3.20.3)\n",
            "Requirement already satisfied: wrapt>=1.11.1 in /usr/local/lib/python3.10/dist-packages (from tf_agents) (1.14.1)\n",
            "Requirement already satisfied: typing-extensions>=3.7.4.3 in /usr/local/lib/python3.10/dist-packages (from tf_agents) (4.5.0)\n",
            "Collecting pygame==2.1.3 (from tf_agents)\n",
            "  Downloading pygame-2.1.3-cp310-cp310-manylinux_2_17_x86_64.manylinux2014_x86_64.whl (13.7 MB)\n",
            "\u001b[2K     \u001b[90m━━━━━━━━━━━━━━━━━━━━━━━━━━━━━━━━━━━━━━━━\u001b[0m \u001b[32m13.7/13.7 MB\u001b[0m \u001b[31m68.0 MB/s\u001b[0m eta \u001b[36m0:00:00\u001b[0m\n",
            "\u001b[?25hCollecting tensorflow-probability~=0.19.0 (from tf_agents)\n",
            "  Downloading tensorflow_probability-0.19.0-py2.py3-none-any.whl (6.7 MB)\n",
            "\u001b[2K     \u001b[90m━━━━━━━━━━━━━━━━━━━━━━━━━━━━━━━━━━━━━━━━\u001b[0m \u001b[32m6.7/6.7 MB\u001b[0m \u001b[31m98.9 MB/s\u001b[0m eta \u001b[36m0:00:00\u001b[0m\n",
            "\u001b[?25hRequirement already satisfied: gym-notices>=0.0.4 in /usr/local/lib/python3.10/dist-packages (from gym<=0.23.0,>=0.17.0->tf_agents) (0.0.8)\n",
            "Requirement already satisfied: decorator in /usr/local/lib/python3.10/dist-packages (from tensorflow-probability~=0.19.0->tf_agents) (4.4.2)\n",
            "Requirement already satisfied: gast>=0.3.2 in /usr/local/lib/python3.10/dist-packages (from tensorflow-probability~=0.19.0->tf_agents) (0.4.0)\n",
            "Requirement already satisfied: dm-tree in /usr/local/lib/python3.10/dist-packages (from tensorflow-probability~=0.19.0->tf_agents) (0.1.8)\n",
            "Building wheels for collected packages: gym\n",
            "  Building wheel for gym (pyproject.toml) ... \u001b[?25l\u001b[?25hdone\n",
            "  Created wheel for gym: filename=gym-0.23.0-py3-none-any.whl size=697640 sha256=29d8ceadf0d318563be42391c30231b6dfaddc4946e415fd6eb489faad69cd9e\n",
            "  Stored in directory: /root/.cache/pip/wheels/3d/6f/b4/3991d4fae11d0ecb0754c11cc1b4e7745012850da4efaaf0b1\n",
            "Successfully built gym\n",
            "Installing collected packages: tensorflow-probability, pygame, gym, tf_agents\n",
            "  Attempting uninstall: tensorflow-probability\n",
            "    Found existing installation: tensorflow-probability 0.20.0\n",
            "    Uninstalling tensorflow-probability-0.20.0:\n",
            "      Successfully uninstalled tensorflow-probability-0.20.0\n",
            "  Attempting uninstall: pygame\n",
            "    Found existing installation: pygame 2.3.0\n",
            "    Uninstalling pygame-2.3.0:\n",
            "      Successfully uninstalled pygame-2.3.0\n",
            "  Attempting uninstall: gym\n",
            "    Found existing installation: gym 0.25.2\n",
            "    Uninstalling gym-0.25.2:\n",
            "      Successfully uninstalled gym-0.25.2\n",
            "Successfully installed gym-0.23.0 pygame-2.1.3 tensorflow-probability-0.19.0 tf_agents-0.16.0\n"
          ]
        }
      ],
      "source": [
        "!pip install tf_agents"
      ]
    },
    {
      "cell_type": "code",
      "source": [
        "import os\n",
        "import tensorflow as tf\n",
        "import numpy as np\n",
        "import matplotlib.pyplot as plt\n",
        "from PIL import Image\n",
        "import tempfile\n",
        "import gin\n",
        "import tensorflow_probability as tfp\n",
        "from tf_agents.agents import data_converter\n",
        "from tf_agents.agents import tf_agent\n",
        "from tf_agents.distributions import utils as distribution_utils\n",
        "from tf_agents.networks import network\n",
        "from tf_agents.policies import actor_policy\n",
        "from tf_agents.policies import epsilon_greedy_policy\n",
        "from tf_agents.policies import greedy_policy\n",
        "from tf_agents.policies import q_policy\n",
        "from tf_agents.specs import tensor_spec\n",
        "from tf_agents.trajectories import time_step as ts\n",
        "from tf_agents.typing import types\n",
        "from tf_agents.utils import common\n",
        "import typing_extensions\n",
        "import tensorflow as tf\n",
        "from tf_agents.networks import actor_distribution_network\n",
        "from tf_agents.environments import suite_gym\n",
        "from tf_agents.specs import tensor_spec\n",
        "from tf_agents.trajectories import time_step as ts\n",
        "from tf_agents.utils import common\n",
        "import collections\n",
        "from typing import Optional, Callable , Text\n",
        "from tf_agents.drivers.dynamic_step_driver import DynamicStepDriver\n",
        "from tf_agents.replay_buffers import tf_uniform_replay_buffer\n",
        "from tf_agents.policies.random_tf_policy import RandomTFPolicy\n",
        "from tf_agents.environments import tf_py_environment\n",
        "import tf_agents\n",
        "from tf_agents.metrics import tf_metrics\n",
        "from tf_agents.trajectories import trajectory\n",
        "from tf_agents.policies import random_tf_policy\n",
        "from tf_agents.environments.tf_py_environment import TFPyEnvironment\n",
        "import tensorflow as tf\n",
        "from tf_agents.agents.dqn import dqn_agent\n",
        "from tf_agents.environments import suite_gym\n",
        "from tf_agents.environments.tf_py_environment import TFPyEnvironment\n",
        "from tf_agents.networks.q_network import QNetwork\n",
        "from tf_agents.policies.random_tf_policy import RandomTFPolicy\n",
        "from tf_agents.replay_buffers import tf_uniform_replay_buffer\n",
        "from tf_agents.drivers.dynamic_step_driver import DynamicStepDriver\n",
        "from tf_agents.drivers.dynamic_episode_driver import DynamicEpisodeDriver\n",
        "from tf_agents.trajectories import trajectory\n",
        "from tf_agents.specs import tensor_spec\n",
        "from tf_agents.utils.common import function"
      ],
      "metadata": {
        "id": "8WVm7NpTPm4k"
      },
      "execution_count": 1,
      "outputs": []
    },
    {
      "cell_type": "code",
      "source": [
        "Literal = typing_extensions.Literal\n",
        "\n",
        "\n",
        "class BehavioralCloningLossInfo(collections.namedtuple(\n",
        "    'BehavioralCloningLossInfo', ('loss'))):\n",
        "  pass\n",
        "\n",
        "\n",
        "@gin.configurable\n",
        "class BehavioralCloningAgent(tf_agent.TFAgent):\n",
        "  \n",
        "\n",
        "  def __init__(\n",
        "      self,\n",
        "      time_step_spec: ts.TimeStep,\n",
        "      action_spec: types.NestedTensorSpec,\n",
        "      cloning_network: network.Network,\n",
        "      optimizer: types.Optimizer,\n",
        "      num_outer_dims: Literal[1, 2] = 2,  # pylint: disable=bad-whitespace\n",
        "      epsilon_greedy: types.Float = 0.1,\n",
        "      loss_fn: Optional[Callable[[types.NestedTensor, bool],\n",
        "                                 types.Tensor]] = None,\n",
        "      gradient_clipping: Optional[types.Float] = None,\n",
        "      # Params for debugging.\n",
        "      debug_summaries: bool = False,\n",
        "      summarize_grads_and_vars: bool = False,\n",
        "      train_step_counter: Optional[tf.Variable] = None,\n",
        "      name: Optional[Text] = None):\n",
        "    \n",
        "    tf.Module.__init__(self, name=name)\n",
        "    self._cloning_network = cloning_network\n",
        "    self._optimizer = optimizer\n",
        "    self._gradient_clipping = gradient_clipping\n",
        "\n",
        "    action_spec = tensor_spec.from_spec(action_spec)\n",
        "    flat_action_spec = tf.nest.flatten(action_spec)\n",
        "    continuous_specs = [tensor_spec.is_continuous(s) for s in flat_action_spec]\n",
        "\n",
        "    if not flat_action_spec:\n",
        "      raise ValueError('The `action_spec` must contain at least one action.')\n",
        "\n",
        "    single_discrete_scalar_action = (\n",
        "        len(flat_action_spec) == 1 and\n",
        "        flat_action_spec[0].shape.rank == 0 and\n",
        "        not tensor_spec.is_continuous(flat_action_spec[0]))\n",
        "    single_continuous_action = (\n",
        "        len(flat_action_spec) == 1 and\n",
        "        tensor_spec.is_continuous(flat_action_spec[0]))\n",
        "\n",
        "    if (not loss_fn and not single_discrete_scalar_action and\n",
        "        not single_continuous_action):\n",
        "      raise ValueError(\n",
        "          'A `loss_fn` must be provided unless there is a single, scalar '\n",
        "          'discrete action or a single (scalar or non-scalar) continuous '\n",
        "          'action.')\n",
        "\n",
        "    self._network_output_spec = cloning_network.create_variables(\n",
        "        time_step_spec.observation)\n",
        "\n",
        "    # If there is a mix of continuous and discrete actions we want to use an\n",
        "    # actor policy so we can use the `setup_as_continuous` method as long as the\n",
        "    # user provided a custom loss_fn which we verified above.\n",
        "    if any(continuous_specs):\n",
        "      policy, collect_policy = self._setup_as_continuous(\n",
        "          time_step_spec, action_spec, loss_fn)\n",
        "    else:\n",
        "      policy, collect_policy = self._setup_as_discrete(time_step_spec,\n",
        "                                                       action_spec, loss_fn,\n",
        "                                                       epsilon_greedy)\n",
        "\n",
        "    super(BehavioralCloningAgent, self).__init__(\n",
        "        time_step_spec,\n",
        "        action_spec,\n",
        "        policy,\n",
        "        collect_policy,\n",
        "        train_sequence_length=None,\n",
        "        debug_summaries=debug_summaries,\n",
        "        summarize_grads_and_vars=summarize_grads_and_vars,\n",
        "        train_step_counter=train_step_counter)\n",
        "\n",
        "    self._as_trajectory = data_converter.AsTrajectory(\n",
        "        self.data_context, sequence_length=None,\n",
        "        num_outer_dims=num_outer_dims)\n",
        "\n",
        "  @property\n",
        "  def cloning_network(self):\n",
        "    return self._cloning_network\n",
        "\n",
        "  def _discrete_loss(self, experience, training=False):\n",
        "    batch_size = (\n",
        "        tf.compat.dimension_value(experience.step_type.shape[0]) or\n",
        "        tf.shape(experience.step_type)[0])\n",
        "\n",
        "    network_state = self._cloning_network.get_initial_state(batch_size)\n",
        "    action, _ = self._cloning_network(\n",
        "        experience.observation,\n",
        "        step_type=experience.step_type,\n",
        "        training=training,\n",
        "        network_state=network_state)\n",
        "\n",
        "    # Get logits if the output of the cloning network is a distribution.\n",
        "    if isinstance(action, tfp.distributions.Distribution):\n",
        "      bc_logits = action.logits_parameter()\n",
        "    else:\n",
        "      bc_logits = action\n",
        "\n",
        "    def loss(action, bc_logits, spec):\n",
        "      # Subtract the minimum so that we get a proper cross entropy loss on\n",
        "      # [0, maximum - minimum).\n",
        "      return tf.nn.sparse_softmax_cross_entropy_with_logits(\n",
        "          labels=action - spec.minimum, logits=bc_logits)\n",
        "\n",
        "    losses = tf.nest.map_structure(loss, experience.action, bc_logits,\n",
        "                                   self.action_spec)\n",
        "    losses = tf.nest.flatten(losses)\n",
        "    return tf.add_n(losses)\n",
        "\n",
        "  def _continuous_loss_fn(self, experience, training: bool = False):\n",
        "    batch_size = (\n",
        "        tf.compat.dimension_value(experience.step_type.shape[0]) or\n",
        "        tf.shape(experience.step_type)[0])\n",
        "    network_state = self._cloning_network.get_initial_state(batch_size)\n",
        "    bc_output, _ = self._cloning_network(\n",
        "        experience.observation,\n",
        "        step_type=experience.step_type,\n",
        "        training=training,\n",
        "        network_state=network_state)\n",
        "\n",
        "    if isinstance(bc_output, tfp.distributions.Distribution):\n",
        "      bc_action = bc_output.sample()\n",
        "    else:\n",
        "      bc_action = bc_output\n",
        "\n",
        "    losses = tf.nest.map_structure(tf.losses.mse, experience.action, bc_action)\n",
        "    losses = tf.nest.flatten(losses)\n",
        "    return tf.add_n(losses)\n",
        "\n",
        "  def _setup_as_discrete(self, time_step_spec, action_spec, loss_fn,\n",
        "                         epsilon_greedy):\n",
        "    self._bc_loss_fn = loss_fn or self._discrete_loss\n",
        "\n",
        "    if any(isinstance(d, distribution_utils.DistributionSpecV2) for\n",
        "           d in tf.nest.flatten([self._network_output_spec])):\n",
        "      # If the output of the cloning network contains a distribution.\n",
        "      base_policy = actor_policy.ActorPolicy(time_step_spec, action_spec,\n",
        "                                             self._cloning_network)\n",
        "    else:\n",
        "      # If the output of the cloning network is logits.\n",
        "      base_policy = q_policy.QPolicy(\n",
        "          time_step_spec,\n",
        "          action_spec,\n",
        "          q_network=self._cloning_network,\n",
        "          validate_action_spec_and_network=False)\n",
        "    policy = greedy_policy.GreedyPolicy(base_policy)\n",
        "    collect_policy = epsilon_greedy_policy.EpsilonGreedyPolicy(\n",
        "        base_policy, epsilon=epsilon_greedy)\n",
        "    return policy, collect_policy\n",
        "\n",
        "  def _setup_as_continuous(self, time_step_spec, action_spec, loss_fn):\n",
        "    self._bc_loss_fn = loss_fn or self._continuous_loss_fn\n",
        "    collect_policy = actor_policy.ActorPolicy(\n",
        "        time_step_spec, action_spec, actor_network=self._cloning_network)\n",
        "    policy = greedy_policy.GreedyPolicy(collect_policy)\n",
        "    return policy, collect_policy\n",
        "\n",
        "  def _loss(self, experience, weights=None, training: bool = False):\n",
        "    experience = self._as_trajectory(experience)\n",
        "\n",
        "    per_example_loss = self._bc_loss_fn(experience, training=training)  # pytype: disable=wrong-keyword-args  # dynamic-method-lookup\n",
        "    aggregated_losses = common.aggregate_losses(\n",
        "        per_example_loss=per_example_loss,\n",
        "        sample_weight=weights,\n",
        "        regularization_loss=self._cloning_network.losses)\n",
        "\n",
        "    return tf_agent.LossInfo(\n",
        "        loss=aggregated_losses.total_loss,\n",
        "        extra=BehavioralCloningLossInfo(per_example_loss))\n",
        "\n",
        "  def _train(self, experience, weights=None):\n",
        "    experience = self._as_trajectory(experience)\n",
        "\n",
        "    with tf.GradientTape() as tape:\n",
        "      per_example_loss = self._bc_loss_fn(experience, training=True)  # pytype: disable=wrong-keyword-args  # dynamic-method-lookup\n",
        "\n",
        "      aggregated_losses = common.aggregate_losses(\n",
        "          per_example_loss=per_example_loss,\n",
        "          sample_weight=weights,\n",
        "          regularization_loss=self._cloning_network.losses)\n",
        "\n",
        "    self._apply_loss(aggregated_losses,\n",
        "                     variables_to_train=self._cloning_network.trainable_weights,\n",
        "                     tape=tape,\n",
        "                     optimizer=self._optimizer)\n",
        "\n",
        "    self.train_step_counter.assign_add(1)\n",
        "    return tf_agent.LossInfo(aggregated_losses.total_loss,\n",
        "                             BehavioralCloningLossInfo(per_example_loss))"
      ],
      "metadata": {
        "id": "TfZm08oMPqso"
      },
      "execution_count": 2,
      "outputs": []
    },
    {
      "cell_type": "markdown",
      "source": [
        "## LOAD THE EXPERIENCE REPLAY BUFFER WITH EXPERIENCES COLLECTED BY A DQN AGENT"
      ],
      "metadata": {
        "id": "MP4nEmMfTiqS"
      }
    },
    {
      "cell_type": "code",
      "source": [
        "# Create the environment.\n",
        "env_name = \"CartPole-v0\"\n",
        "env = suite_gym.load(env_name)\n",
        "tf_env = TFPyEnvironment(env)"
      ],
      "metadata": {
        "id": "l9IPQi7bQVaL"
      },
      "execution_count": 3,
      "outputs": []
    },
    {
      "cell_type": "code",
      "source": [
        "# Create the Q-Network.\n",
        "fc_layer_params = (100,)\n",
        "q_net = QNetwork(\n",
        "    tf_env.observation_spec(),\n",
        "    tf_env.action_spec(),\n",
        "    fc_layer_params=fc_layer_params)"
      ],
      "metadata": {
        "id": "Mly4xx4OSaI0"
      },
      "execution_count": 4,
      "outputs": []
    },
    {
      "cell_type": "code",
      "source": [
        "# Define the optimizer.\n",
        "optimizer = tf.compat.v1.train.AdamOptimizer(learning_rate=1e-3)"
      ],
      "metadata": {
        "id": "yNAZW033UB44"
      },
      "execution_count": 5,
      "outputs": []
    },
    {
      "cell_type": "code",
      "source": [
        "# Initialize the DQN Agent.\n",
        "train_step_counter = tf.Variable(0)\n",
        "agent = dqn_agent.DqnAgent(\n",
        "    tf_env.time_step_spec(),\n",
        "    tf_env.action_spec(),\n",
        "    q_network=q_net,\n",
        "    optimizer=optimizer,\n",
        "    td_errors_loss_fn=common.element_wise_huber_loss,\n",
        "    train_step_counter=train_step_counter)\n",
        "\n",
        "# Initialize the agent.\n",
        "agent.initialize()"
      ],
      "metadata": {
        "id": "kJpiHGqbUIaa"
      },
      "execution_count": 16,
      "outputs": []
    },
    {
      "cell_type": "code",
      "source": [
        "# Create the replay buffer.\n",
        "replay_buffer = tf_uniform_replay_buffer.TFUniformReplayBuffer(\n",
        "    data_spec=agent.collect_data_spec,\n",
        "    batch_size=tf_env.batch_size,\n",
        "    max_length=1000000)"
      ],
      "metadata": {
        "id": "9ostXmDhUNzj"
      },
      "execution_count": 15,
      "outputs": []
    },
    {
      "cell_type": "code",
      "source": [
        "# Create the metric.\n",
        "average_return = tf_metrics.AverageReturnMetric(buffer_size=100)  # Compute the average return over the last 100 episodes.\n",
        "\n",
        "# Create the observer.\n",
        "observers = [replay_buffer.add_batch, average_return]"
      ],
      "metadata": {
        "id": "AacVvQGfcp5n"
      },
      "execution_count": 8,
      "outputs": []
    },
    {
      "cell_type": "code",
      "source": [
        "num_episodes = 100\n",
        "# Collect experience.\n",
        "#initial_collect_steps = 10000\n",
        "initial_collect_policy = RandomTFPolicy(tf_env.time_step_spec(), tf_env.action_spec())\n",
        "initial_driver = DynamicEpisodeDriver(\n",
        "    tf_env,\n",
        "    agent.collect_policy,\n",
        "    observers=observers,\n",
        "    num_episodes=num_episodes)  # Collect 1,0000 episodes.\n",
        "# Collect the data.\n",
        "returns = []\n",
        "for i in range(num_episodes):\n",
        "    initial_time_step = tf_env.reset()\n",
        "    initial_driver.run(initial_time_step)\n",
        "    returns.append(average_return.result())\n",
        "    if i % 200 == 0:\n",
        "        print('Iteration:', i, 'Reward:', average_return.result().numpy())"
      ],
      "metadata": {
        "colab": {
          "base_uri": "https://localhost:8080/"
        },
        "id": "ixOquzJlUUBi",
        "outputId": "c8b826f0-0cd4-422f-eda2-ce481f57a933"
      },
      "execution_count": null,
      "outputs": [
        {
          "output_type": "stream",
          "name": "stdout",
          "text": [
            "Iteration: 0 Reward: tf.Tensor(9.93, shape=(), dtype=float32)\n"
          ]
        }
      ]
    },
    {
      "cell_type": "code",
      "source": [
        "# Plot the average return.\n",
        "returns = [average_return.result().numpy() for _ in range(num_episodes)]\n",
        "plt.plot(returns)\n",
        "plt.xlabel('Episode')\n",
        "plt.ylabel('Average Return')\n",
        "plt.show()"
      ],
      "metadata": {
        "colab": {
          "base_uri": "https://localhost:8080/",
          "height": 449
        },
        "id": "tj2wr3WQerKn",
        "outputId": "df0d4a4b-743f-47b4-8b8a-05b25e39c504"
      },
      "execution_count": 11,
      "outputs": [
        {
          "output_type": "display_data",
          "data": {
            "text/plain": [
              "<Figure size 640x480 with 1 Axes>"
            ],
            "image/png": "[encoded data removed]"
          },
          "metadata": {}
        }
      ]
    },
    {
      "cell_type": "code",
      "source": [
        "# Train the agent.\n",
        "dataset = replay_buffer.as_dataset(\n",
        "    num_parallel_calls=3, \n",
        "    sample_batch_size=64, \n",
        "    num_steps=2).prefetch(3)\n",
        "\n",
        "iterator = iter(dataset)\n",
        "\n",
        "agent.train = function(agent.train)\n",
        "train_loss_list = []\n",
        "for i in range(20000):\n",
        "    experience, _ = next(iterator)\n",
        "    train_loss = agent.train(experience)\n",
        "    # Append the current loss value to the list\n",
        "    train_loss_list.append(train_loss.loss)\n",
        "\n",
        "    # Print the current iteration number and the training loss every 100 iterations\n",
        "    if i % 200 == 0:\n",
        "        print('Iteration:', i, 'Training loss:', train_loss.loss.numpy())"
      ],
      "metadata": {
        "colab": {
          "base_uri": "https://localhost:8080/"
        },
        "id": "KcaZhwtXVyDO",
        "outputId": "93830636-6c0c-4689-e0ea-e205f17d7431"
      },
      "execution_count": 12,
      "outputs": [
        {
          "output_type": "stream",
          "name": "stderr",
          "text": [
            "WARNING:tensorflow:From /usr/local/lib/python3.10/dist-packages/tf_agents/replay_buffers/tf_uniform_replay_buffer.py:342: CounterV2 (from tensorflow.python.data.experimental.ops.counter) is deprecated and will be removed in a future version.\n",
            "Instructions for updating:\n",
            "Use `tf.data.Dataset.counter(...)` instead.\n",
            "WARNING:tensorflow:From /usr/local/lib/python3.10/dist-packages/tensorflow/python/autograph/impl/api.py:377: ReplayBuffer.get_next (from tf_agents.replay_buffers.replay_buffer) is deprecated and will be removed in a future version.\n",
            "Instructions for updating:\n",
            "Use `as_dataset(..., single_deterministic_pass=False) instead.\n",
            "WARNING:tensorflow:From /usr/local/lib/python3.10/dist-packages/tensorflow/python/util/dispatch.py:1176: calling foldr_v2 (from tensorflow.python.ops.functional_ops) with back_prop=False is deprecated and will be removed in a future version.\n",
            "Instructions for updating:\n",
            "back_prop=False is deprecated. Consider using tf.stop_gradient instead.\n",
            "Instead of:\n",
            "results = tf.foldr(fn, elems, back_prop=False)\n",
            "Use:\n",
            "results = tf.nest.map_structure(tf.stop_gradient, tf.foldr(fn, elems))\n"
          ]
        },
        {
          "output_type": "stream",
          "name": "stdout",
          "text": [
            "Iteration: 0 Training loss: 0.4593997\n",
            "Iteration: 200 Training loss: 7.8912067\n",
            "Iteration: 400 Training loss: 22.262194\n",
            "Iteration: 600 Training loss: 56.284866\n",
            "Iteration: 800 Training loss: 125.12857\n",
            "Iteration: 1000 Training loss: 196.64748\n",
            "Iteration: 1200 Training loss: 270.76447\n",
            "Iteration: 1400 Training loss: 441.45767\n",
            "Iteration: 1600 Training loss: 502.47455\n",
            "Iteration: 1800 Training loss: 514.2014\n",
            "Iteration: 2000 Training loss: 674.94214\n",
            "Iteration: 2200 Training loss: 1087.4391\n",
            "Iteration: 2400 Training loss: 1346.088\n",
            "Iteration: 2600 Training loss: 1042.8994\n",
            "Iteration: 2800 Training loss: 1262.2936\n",
            "Iteration: 3000 Training loss: 1580.9014\n",
            "Iteration: 3200 Training loss: 2988.7856\n",
            "Iteration: 3400 Training loss: 2058.144\n",
            "Iteration: 3600 Training loss: 2327.1067\n",
            "Iteration: 3800 Training loss: 2243.3594\n",
            "Iteration: 4000 Training loss: 2924.4526\n",
            "Iteration: 4200 Training loss: 2951.351\n",
            "Iteration: 4400 Training loss: 3884.751\n",
            "Iteration: 4600 Training loss: 3009.6387\n",
            "Iteration: 4800 Training loss: 2760.052\n",
            "Iteration: 5000 Training loss: 5762.1016\n",
            "Iteration: 5200 Training loss: 5704.914\n",
            "Iteration: 5400 Training loss: 3640.5112\n",
            "Iteration: 5600 Training loss: 4692.1055\n",
            "Iteration: 5800 Training loss: 9791.228\n",
            "Iteration: 6000 Training loss: 6579.7285\n",
            "Iteration: 6200 Training loss: 7522.241\n",
            "Iteration: 6400 Training loss: 6376.9272\n",
            "Iteration: 6600 Training loss: 6998.9297\n",
            "Iteration: 6800 Training loss: 5408.1704\n",
            "Iteration: 7000 Training loss: 8679.718\n",
            "Iteration: 7200 Training loss: 8324.879\n",
            "Iteration: 7400 Training loss: 8425.617\n",
            "Iteration: 7600 Training loss: 7867.697\n",
            "Iteration: 7800 Training loss: 11837.357\n",
            "Iteration: 8000 Training loss: 11792.407\n",
            "Iteration: 8200 Training loss: 10313.33\n",
            "Iteration: 8400 Training loss: 10398.987\n",
            "Iteration: 8600 Training loss: 7736.89\n",
            "Iteration: 8800 Training loss: 12928.724\n",
            "Iteration: 9000 Training loss: 9839.236\n",
            "Iteration: 9200 Training loss: 12648.459\n",
            "Iteration: 9400 Training loss: 10033.203\n",
            "Iteration: 9600 Training loss: 11589.776\n",
            "Iteration: 9800 Training loss: 14089.087\n",
            "Iteration: 10000 Training loss: 12812.953\n",
            "Iteration: 10200 Training loss: 15565.6\n",
            "Iteration: 10400 Training loss: 14927.838\n",
            "Iteration: 10600 Training loss: 17082.172\n",
            "Iteration: 10800 Training loss: 11521.554\n",
            "Iteration: 11000 Training loss: 17353.564\n",
            "Iteration: 11200 Training loss: 16433.746\n",
            "Iteration: 11400 Training loss: 15172.096\n",
            "Iteration: 11600 Training loss: 20072.12\n",
            "Iteration: 11800 Training loss: 11275.128\n",
            "Iteration: 12000 Training loss: 15124.561\n",
            "Iteration: 12200 Training loss: 22357.457\n",
            "Iteration: 12400 Training loss: 21244.516\n",
            "Iteration: 12600 Training loss: 20015.031\n",
            "Iteration: 12800 Training loss: 24138.719\n",
            "Iteration: 13000 Training loss: 20769.61\n",
            "Iteration: 13200 Training loss: 18740.816\n",
            "Iteration: 13400 Training loss: 17140.4\n",
            "Iteration: 13600 Training loss: 18604.734\n",
            "Iteration: 13800 Training loss: 34831.008\n",
            "Iteration: 14000 Training loss: 18154.209\n",
            "Iteration: 14200 Training loss: 30518.273\n",
            "Iteration: 14400 Training loss: 18631.973\n",
            "Iteration: 14600 Training loss: 22408.467\n",
            "Iteration: 14800 Training loss: 25029.146\n",
            "Iteration: 15000 Training loss: 18569.088\n",
            "Iteration: 15200 Training loss: 18426.98\n",
            "Iteration: 15400 Training loss: 22835.377\n",
            "Iteration: 15600 Training loss: 25149.945\n",
            "Iteration: 15800 Training loss: 33334.914\n",
            "Iteration: 16000 Training loss: 33095.914\n",
            "Iteration: 16200 Training loss: 30256.783\n",
            "Iteration: 16400 Training loss: 28168.648\n",
            "Iteration: 16600 Training loss: 46183.59\n",
            "Iteration: 16800 Training loss: 32662.795\n",
            "Iteration: 17000 Training loss: 43791.965\n",
            "Iteration: 17200 Training loss: 42445.63\n",
            "Iteration: 17400 Training loss: 40957.027\n",
            "Iteration: 17600 Training loss: 26761.555\n",
            "Iteration: 17800 Training loss: 37856.37\n",
            "Iteration: 18000 Training loss: 47038.42\n",
            "Iteration: 18200 Training loss: 34245.293\n",
            "Iteration: 18400 Training loss: 50120.25\n",
            "Iteration: 18600 Training loss: 29047.338\n",
            "Iteration: 18800 Training loss: 42644.016\n",
            "Iteration: 19000 Training loss: 48386.164\n",
            "Iteration: 19200 Training loss: 39060.273\n",
            "Iteration: 19400 Training loss: 47742.312\n",
            "Iteration: 19600 Training loss: 62477.297\n",
            "Iteration: 19800 Training loss: 39544.62\n"
          ]
        }
      ]
    },
    {
      "cell_type": "markdown",
      "source": [
        "## NOW THAT THE DQN AGENT HAS A BETTER POLICY TO INTERACT WITH THE ENVIRONMENT, LETS COLLECT SOME MORE EXPERIENCES AND STORE IT IN A NEW REPLAY BUFFER. THIS IS THE SET OF EXPERIENECS THAT THE BEHAVIORAL CLONING AGENT WILL LEARN FROM."
      ],
      "metadata": {
        "id": "yQB2-PnLWfAA"
      }
    },
    {
      "cell_type": "code",
      "source": [
        "#num_episodes=1000\n",
        "# Create another replay buffer.\n",
        "training_replay_buffer = tf_uniform_replay_buffer.TFUniformReplayBuffer(\n",
        "    data_spec=agent.collect_data_spec,\n",
        "    batch_size=tf_env.batch_size,\n",
        "    max_length=10000)\n",
        "\n",
        "# Create a new driver that uses the agent's policy to interact with the environment.\n",
        "new_driver = DynamicEpisodeDriver(\n",
        "    tf_env,\n",
        "    agent.collect_policy,\n",
        "    observers=observers,\n",
        "    num_episodes=num_episodes)  # Collect 10,000 episodes.\n",
        "\n",
        "# Collect the data.\n",
        "initial_time_step = tf_env.reset()\n",
        "new_driver.run(initial_time_step)"
      ],
      "metadata": {
        "colab": {
          "base_uri": "https://localhost:8080/",
          "height": 392
        },
        "id": "hTt7h3odWd-U",
        "outputId": "101ec629-ad91-47d2-85c1-c80a1728d9ad"
      },
      "execution_count": 14,
      "outputs": [
        {
          "output_type": "error",
          "ename": "KeyboardInterrupt",
          "evalue": "ignored",
          "traceback": [
            "\u001b[0;31m---------------------------------------------------------------------------\u001b[0m",
            "\u001b[0;31mKeyboardInterrupt\u001b[0m                         Traceback (most recent call last)",
            "\u001b[0;32m<ipython-input-14-df6a9644df9e>\u001b[0m in \u001b[0;36m<cell line: 17>\u001b[0;34m()\u001b[0m\n\u001b[1;32m     15\u001b[0m \u001b[0;31m# Collect the data.\u001b[0m\u001b[0;34m\u001b[0m\u001b[0;34m\u001b[0m\u001b[0m\n\u001b[1;32m     16\u001b[0m \u001b[0minitial_time_step\u001b[0m \u001b[0;34m=\u001b[0m \u001b[0mtf_env\u001b[0m\u001b[0;34m.\u001b[0m\u001b[0mreset\u001b[0m\u001b[0;34m(\u001b[0m\u001b[0;34m)\u001b[0m\u001b[0;34m\u001b[0m\u001b[0;34m\u001b[0m\u001b[0m\n\u001b[0;32m---> 17\u001b[0;31m \u001b[0mnew_driver\u001b[0m\u001b[0;34m.\u001b[0m\u001b[0mrun\u001b[0m\u001b[0;34m(\u001b[0m\u001b[0minitial_time_step\u001b[0m\u001b[0;34m)\u001b[0m\u001b[0;34m\u001b[0m\u001b[0;34m\u001b[0m\u001b[0m\n\u001b[0m",
            "\u001b[0;32m/usr/local/lib/python3.10/dist-packages/tf_agents/drivers/dynamic_episode_driver.py\u001b[0m in \u001b[0;36mrun\u001b[0;34m(self, time_step, policy_state, num_episodes, maximum_iterations)\u001b[0m\n\u001b[1;32m    209\u001b[0m       \u001b[0mpolicy_state\u001b[0m\u001b[0;34m:\u001b[0m \u001b[0mTensor\u001b[0m \u001b[0;32mwith\u001b[0m \u001b[0mfinal\u001b[0m \u001b[0mstep\u001b[0m \u001b[0mpolicy\u001b[0m \u001b[0mstate\u001b[0m\u001b[0;34m.\u001b[0m\u001b[0;34m\u001b[0m\u001b[0;34m\u001b[0m\u001b[0m\n\u001b[1;32m    210\u001b[0m     \"\"\"\n\u001b[0;32m--> 211\u001b[0;31m     return self._run_fn(\n\u001b[0m\u001b[1;32m    212\u001b[0m         \u001b[0mtime_step\u001b[0m\u001b[0;34m=\u001b[0m\u001b[0mtime_step\u001b[0m\u001b[0;34m,\u001b[0m\u001b[0;34m\u001b[0m\u001b[0;34m\u001b[0m\u001b[0m\n\u001b[1;32m    213\u001b[0m         \u001b[0mpolicy_state\u001b[0m\u001b[0;34m=\u001b[0m\u001b[0mpolicy_state\u001b[0m\u001b[0;34m,\u001b[0m\u001b[0;34m\u001b[0m\u001b[0;34m\u001b[0m\u001b[0m\n",
            "\u001b[0;32m/usr/local/lib/python3.10/dist-packages/tf_agents/utils/common.py\u001b[0m in \u001b[0;36mwith_check_resource_vars\u001b[0;34m(*fn_args, **fn_kwargs)\u001b[0m\n\u001b[1;32m    186\u001b[0m         \u001b[0;31m# We're either in eager mode or in tf.function mode (no in-between); so\u001b[0m\u001b[0;34m\u001b[0m\u001b[0;34m\u001b[0m\u001b[0m\n\u001b[1;32m    187\u001b[0m         \u001b[0;31m# autodep-like behavior is already expected of fn.\u001b[0m\u001b[0;34m\u001b[0m\u001b[0;34m\u001b[0m\u001b[0m\n\u001b[0;32m--> 188\u001b[0;31m         \u001b[0;32mreturn\u001b[0m \u001b[0mfn\u001b[0m\u001b[0;34m(\u001b[0m\u001b[0;34m*\u001b[0m\u001b[0mfn_args\u001b[0m\u001b[0;34m,\u001b[0m \u001b[0;34m**\u001b[0m\u001b[0mfn_kwargs\u001b[0m\u001b[0;34m)\u001b[0m\u001b[0;34m\u001b[0m\u001b[0;34m\u001b[0m\u001b[0m\n\u001b[0m\u001b[1;32m    189\u001b[0m       \u001b[0;32mif\u001b[0m \u001b[0;32mnot\u001b[0m \u001b[0mresource_variables_enabled\u001b[0m\u001b[0;34m(\u001b[0m\u001b[0;34m)\u001b[0m\u001b[0;34m:\u001b[0m\u001b[0;34m\u001b[0m\u001b[0;34m\u001b[0m\u001b[0m\n\u001b[1;32m    190\u001b[0m         \u001b[0;32mraise\u001b[0m \u001b[0mRuntimeError\u001b[0m\u001b[0;34m(\u001b[0m\u001b[0mMISSING_RESOURCE_VARIABLES_ERROR\u001b[0m\u001b[0;34m)\u001b[0m\u001b[0;34m\u001b[0m\u001b[0;34m\u001b[0m\u001b[0m\n",
            "\u001b[0;32m/usr/local/lib/python3.10/dist-packages/tf_agents/drivers/dynamic_episode_driver.py\u001b[0m in \u001b[0;36m_run\u001b[0;34m(self, time_step, policy_state, num_episodes, maximum_iterations)\u001b[0m\n\u001b[1;32m    236\u001b[0m     [_, time_step, policy_state] = tf.nest.map_structure(\n\u001b[1;32m    237\u001b[0m         \u001b[0mtf\u001b[0m\u001b[0;34m.\u001b[0m\u001b[0mstop_gradient\u001b[0m\u001b[0;34m,\u001b[0m\u001b[0;34m\u001b[0m\u001b[0;34m\u001b[0m\u001b[0m\n\u001b[0;32m--> 238\u001b[0;31m         tf.while_loop(\n\u001b[0m\u001b[1;32m    239\u001b[0m             \u001b[0mcond\u001b[0m\u001b[0;34m=\u001b[0m\u001b[0mself\u001b[0m\u001b[0;34m.\u001b[0m\u001b[0m_loop_condition_fn\u001b[0m\u001b[0;34m(\u001b[0m\u001b[0mnum_episodes\u001b[0m\u001b[0;34m)\u001b[0m\u001b[0;34m,\u001b[0m\u001b[0;34m\u001b[0m\u001b[0;34m\u001b[0m\u001b[0m\n\u001b[1;32m    240\u001b[0m             \u001b[0mbody\u001b[0m\u001b[0;34m=\u001b[0m\u001b[0mself\u001b[0m\u001b[0;34m.\u001b[0m\u001b[0m_loop_body_fn\u001b[0m\u001b[0;34m(\u001b[0m\u001b[0;34m)\u001b[0m\u001b[0;34m,\u001b[0m\u001b[0;34m\u001b[0m\u001b[0;34m\u001b[0m\u001b[0m\n",
            "\u001b[0;32m/usr/local/lib/python3.10/dist-packages/tensorflow/python/util/deprecation.py\u001b[0m in \u001b[0;36mnew_func\u001b[0;34m(*args, **kwargs)\u001b[0m\n\u001b[1;32m    646\u001b[0m                   \u001b[0;34m'in a future version'\u001b[0m \u001b[0;32mif\u001b[0m \u001b[0mdate\u001b[0m \u001b[0;32mis\u001b[0m \u001b[0;32mNone\u001b[0m \u001b[0;32melse\u001b[0m\u001b[0;34m\u001b[0m\u001b[0;34m\u001b[0m\u001b[0m\n\u001b[1;32m    647\u001b[0m                   ('after %s' % date), instructions)\n\u001b[0;32m--> 648\u001b[0;31m       \u001b[0;32mreturn\u001b[0m \u001b[0mfunc\u001b[0m\u001b[0;34m(\u001b[0m\u001b[0;34m*\u001b[0m\u001b[0margs\u001b[0m\u001b[0;34m,\u001b[0m \u001b[0;34m**\u001b[0m\u001b[0mkwargs\u001b[0m\u001b[0;34m)\u001b[0m\u001b[0;34m\u001b[0m\u001b[0;34m\u001b[0m\u001b[0m\n\u001b[0m\u001b[1;32m    649\u001b[0m \u001b[0;34m\u001b[0m\u001b[0m\n\u001b[1;32m    650\u001b[0m     doc = _add_deprecated_arg_value_notice_to_docstring(func.__doc__, date,\n",
            "\u001b[0;32m/usr/local/lib/python3.10/dist-packages/tensorflow/python/ops/control_flow_ops.py\u001b[0m in \u001b[0;36mwhile_loop_v2\u001b[0;34m(cond, body, loop_vars, shape_invariants, parallel_iterations, back_prop, swap_memory, maximum_iterations, name)\u001b[0m\n\u001b[1;32m   2572\u001b[0m \u001b[0;34m\u001b[0m\u001b[0m\n\u001b[1;32m   2573\u001b[0m   \"\"\"\n\u001b[0;32m-> 2574\u001b[0;31m   return while_loop(\n\u001b[0m\u001b[1;32m   2575\u001b[0m       \u001b[0mcond\u001b[0m\u001b[0;34m=\u001b[0m\u001b[0mcond\u001b[0m\u001b[0;34m,\u001b[0m\u001b[0;34m\u001b[0m\u001b[0;34m\u001b[0m\u001b[0m\n\u001b[1;32m   2576\u001b[0m       \u001b[0mbody\u001b[0m\u001b[0;34m=\u001b[0m\u001b[0mbody\u001b[0m\u001b[0;34m,\u001b[0m\u001b[0;34m\u001b[0m\u001b[0;34m\u001b[0m\u001b[0m\n",
            "\u001b[0;32m/usr/local/lib/python3.10/dist-packages/tensorflow/python/ops/control_flow_ops.py\u001b[0m in \u001b[0;36mwhile_loop\u001b[0;34m(cond, body, loop_vars, shape_invariants, parallel_iterations, back_prop, swap_memory, name, maximum_iterations, return_same_structure)\u001b[0m\n\u001b[1;32m   2821\u001b[0m                                               list(loop_vars))\n\u001b[1;32m   2822\u001b[0m       \u001b[0;32mwhile\u001b[0m \u001b[0mcond\u001b[0m\u001b[0;34m(\u001b[0m\u001b[0;34m*\u001b[0m\u001b[0mloop_vars\u001b[0m\u001b[0;34m)\u001b[0m\u001b[0;34m:\u001b[0m\u001b[0;34m\u001b[0m\u001b[0;34m\u001b[0m\u001b[0m\n\u001b[0;32m-> 2823\u001b[0;31m         \u001b[0mloop_vars\u001b[0m \u001b[0;34m=\u001b[0m \u001b[0mbody\u001b[0m\u001b[0;34m(\u001b[0m\u001b[0;34m*\u001b[0m\u001b[0mloop_vars\u001b[0m\u001b[0;34m)\u001b[0m\u001b[0;34m\u001b[0m\u001b[0;34m\u001b[0m\u001b[0m\n\u001b[0m\u001b[1;32m   2824\u001b[0m         \u001b[0;32mif\u001b[0m \u001b[0mtry_to_pack\u001b[0m \u001b[0;32mand\u001b[0m \u001b[0;32mnot\u001b[0m \u001b[0misinstance\u001b[0m\u001b[0;34m(\u001b[0m\u001b[0mloop_vars\u001b[0m\u001b[0;34m,\u001b[0m \u001b[0;34m(\u001b[0m\u001b[0mlist\u001b[0m\u001b[0;34m,\u001b[0m \u001b[0m_basetuple\u001b[0m\u001b[0;34m)\u001b[0m\u001b[0;34m)\u001b[0m\u001b[0;34m:\u001b[0m\u001b[0;34m\u001b[0m\u001b[0;34m\u001b[0m\u001b[0m\n\u001b[1;32m   2825\u001b[0m           \u001b[0mpacked\u001b[0m \u001b[0;34m=\u001b[0m \u001b[0;32mTrue\u001b[0m\u001b[0;34m\u001b[0m\u001b[0;34m\u001b[0m\u001b[0m\n",
            "\u001b[0;32m/usr/local/lib/python3.10/dist-packages/tf_agents/drivers/dynamic_episode_driver.py\u001b[0m in \u001b[0;36mloop_body\u001b[0;34m(counter, time_step, policy_state)\u001b[0m\n\u001b[1;32m    132\u001b[0m         \u001b[0mloop_vars\u001b[0m \u001b[0;32mfor\u001b[0m \u001b[0mnext\u001b[0m \u001b[0miteration\u001b[0m \u001b[0mof\u001b[0m \u001b[0mtf\u001b[0m\u001b[0;34m.\u001b[0m\u001b[0mwhile_loop\u001b[0m\u001b[0;34m.\u001b[0m\u001b[0;34m\u001b[0m\u001b[0;34m\u001b[0m\u001b[0m\n\u001b[1;32m    133\u001b[0m       \"\"\"\n\u001b[0;32m--> 134\u001b[0;31m       \u001b[0maction_step\u001b[0m \u001b[0;34m=\u001b[0m \u001b[0mself\u001b[0m\u001b[0;34m.\u001b[0m\u001b[0mpolicy\u001b[0m\u001b[0;34m.\u001b[0m\u001b[0maction\u001b[0m\u001b[0;34m(\u001b[0m\u001b[0mtime_step\u001b[0m\u001b[0;34m,\u001b[0m \u001b[0mpolicy_state\u001b[0m\u001b[0;34m)\u001b[0m\u001b[0;34m\u001b[0m\u001b[0;34m\u001b[0m\u001b[0m\n\u001b[0m\u001b[1;32m    135\u001b[0m \u001b[0;34m\u001b[0m\u001b[0m\n\u001b[1;32m    136\u001b[0m       \u001b[0;31m# TODO(b/134487572): TF2 while_loop seems to either ignore\u001b[0m\u001b[0;34m\u001b[0m\u001b[0;34m\u001b[0m\u001b[0m\n",
            "\u001b[0;32m/usr/local/lib/python3.10/dist-packages/tf_agents/policies/tf_policy.py\u001b[0m in \u001b[0;36maction\u001b[0;34m(self, time_step, policy_state, seed)\u001b[0m\n\u001b[1;32m    322\u001b[0m     \u001b[0;32mif\u001b[0m \u001b[0mself\u001b[0m\u001b[0;34m.\u001b[0m\u001b[0m_automatic_state_reset\u001b[0m\u001b[0;34m:\u001b[0m\u001b[0;34m\u001b[0m\u001b[0;34m\u001b[0m\u001b[0m\n\u001b[1;32m    323\u001b[0m       \u001b[0mpolicy_state\u001b[0m \u001b[0;34m=\u001b[0m \u001b[0mself\u001b[0m\u001b[0;34m.\u001b[0m\u001b[0m_maybe_reset_state\u001b[0m\u001b[0;34m(\u001b[0m\u001b[0mtime_step\u001b[0m\u001b[0;34m,\u001b[0m \u001b[0mpolicy_state\u001b[0m\u001b[0;34m)\u001b[0m\u001b[0;34m\u001b[0m\u001b[0;34m\u001b[0m\u001b[0m\n\u001b[0;32m--> 324\u001b[0;31m     \u001b[0mstep\u001b[0m \u001b[0;34m=\u001b[0m \u001b[0maction_fn\u001b[0m\u001b[0;34m(\u001b[0m\u001b[0mtime_step\u001b[0m\u001b[0;34m=\u001b[0m\u001b[0mtime_step\u001b[0m\u001b[0;34m,\u001b[0m \u001b[0mpolicy_state\u001b[0m\u001b[0;34m=\u001b[0m\u001b[0mpolicy_state\u001b[0m\u001b[0;34m,\u001b[0m \u001b[0mseed\u001b[0m\u001b[0;34m=\u001b[0m\u001b[0mseed\u001b[0m\u001b[0;34m)\u001b[0m\u001b[0;34m\u001b[0m\u001b[0;34m\u001b[0m\u001b[0m\n\u001b[0m\u001b[1;32m    325\u001b[0m \u001b[0;34m\u001b[0m\u001b[0m\n\u001b[1;32m    326\u001b[0m     \u001b[0;32mdef\u001b[0m \u001b[0mclip_action\u001b[0m\u001b[0;34m(\u001b[0m\u001b[0maction\u001b[0m\u001b[0;34m,\u001b[0m \u001b[0maction_spec\u001b[0m\u001b[0;34m)\u001b[0m\u001b[0;34m:\u001b[0m\u001b[0;34m\u001b[0m\u001b[0;34m\u001b[0m\u001b[0m\n",
            "\u001b[0;32m/usr/local/lib/python3.10/dist-packages/tf_agents/utils/common.py\u001b[0m in \u001b[0;36mwith_check_resource_vars\u001b[0;34m(*fn_args, **fn_kwargs)\u001b[0m\n\u001b[1;32m    186\u001b[0m         \u001b[0;31m# We're either in eager mode or in tf.function mode (no in-between); so\u001b[0m\u001b[0;34m\u001b[0m\u001b[0;34m\u001b[0m\u001b[0m\n\u001b[1;32m    187\u001b[0m         \u001b[0;31m# autodep-like behavior is already expected of fn.\u001b[0m\u001b[0;34m\u001b[0m\u001b[0;34m\u001b[0m\u001b[0m\n\u001b[0;32m--> 188\u001b[0;31m         \u001b[0;32mreturn\u001b[0m \u001b[0mfn\u001b[0m\u001b[0;34m(\u001b[0m\u001b[0;34m*\u001b[0m\u001b[0mfn_args\u001b[0m\u001b[0;34m,\u001b[0m \u001b[0;34m**\u001b[0m\u001b[0mfn_kwargs\u001b[0m\u001b[0;34m)\u001b[0m\u001b[0;34m\u001b[0m\u001b[0;34m\u001b[0m\u001b[0m\n\u001b[0m\u001b[1;32m    189\u001b[0m       \u001b[0;32mif\u001b[0m \u001b[0;32mnot\u001b[0m \u001b[0mresource_variables_enabled\u001b[0m\u001b[0;34m(\u001b[0m\u001b[0;34m)\u001b[0m\u001b[0;34m:\u001b[0m\u001b[0;34m\u001b[0m\u001b[0;34m\u001b[0m\u001b[0m\n\u001b[1;32m    190\u001b[0m         \u001b[0;32mraise\u001b[0m \u001b[0mRuntimeError\u001b[0m\u001b[0;34m(\u001b[0m\u001b[0mMISSING_RESOURCE_VARIABLES_ERROR\u001b[0m\u001b[0;34m)\u001b[0m\u001b[0;34m\u001b[0m\u001b[0;34m\u001b[0m\u001b[0m\n",
            "\u001b[0;32m/usr/local/lib/python3.10/dist-packages/tf_agents/policies/epsilon_greedy_policy.py\u001b[0m in \u001b[0;36m_action\u001b[0;34m(self, time_step, policy_state, seed)\u001b[0m\n\u001b[1;32m    113\u001b[0m   \u001b[0;32mdef\u001b[0m \u001b[0m_action\u001b[0m\u001b[0;34m(\u001b[0m\u001b[0mself\u001b[0m\u001b[0;34m,\u001b[0m \u001b[0mtime_step\u001b[0m\u001b[0;34m,\u001b[0m \u001b[0mpolicy_state\u001b[0m\u001b[0;34m,\u001b[0m \u001b[0mseed\u001b[0m\u001b[0;34m)\u001b[0m\u001b[0;34m:\u001b[0m\u001b[0;34m\u001b[0m\u001b[0;34m\u001b[0m\u001b[0m\n\u001b[1;32m    114\u001b[0m     \u001b[0mseed_stream\u001b[0m \u001b[0;34m=\u001b[0m \u001b[0mtfp\u001b[0m\u001b[0;34m.\u001b[0m\u001b[0mutil\u001b[0m\u001b[0;34m.\u001b[0m\u001b[0mSeedStream\u001b[0m\u001b[0;34m(\u001b[0m\u001b[0mseed\u001b[0m\u001b[0;34m=\u001b[0m\u001b[0mseed\u001b[0m\u001b[0;34m,\u001b[0m \u001b[0msalt\u001b[0m\u001b[0;34m=\u001b[0m\u001b[0;34m'epsilon_greedy'\u001b[0m\u001b[0;34m)\u001b[0m\u001b[0;34m\u001b[0m\u001b[0;34m\u001b[0m\u001b[0m\n\u001b[0;32m--> 115\u001b[0;31m     \u001b[0mgreedy_action\u001b[0m \u001b[0;34m=\u001b[0m \u001b[0mself\u001b[0m\u001b[0;34m.\u001b[0m\u001b[0m_greedy_policy\u001b[0m\u001b[0;34m.\u001b[0m\u001b[0maction\u001b[0m\u001b[0;34m(\u001b[0m\u001b[0mtime_step\u001b[0m\u001b[0;34m,\u001b[0m \u001b[0mpolicy_state\u001b[0m\u001b[0;34m)\u001b[0m\u001b[0;34m\u001b[0m\u001b[0;34m\u001b[0m\u001b[0m\n\u001b[0m\u001b[1;32m    116\u001b[0m     \u001b[0mrandom_action\u001b[0m \u001b[0;34m=\u001b[0m \u001b[0mself\u001b[0m\u001b[0;34m.\u001b[0m\u001b[0m_random_policy\u001b[0m\u001b[0;34m.\u001b[0m\u001b[0maction\u001b[0m\u001b[0;34m(\u001b[0m\u001b[0mtime_step\u001b[0m\u001b[0;34m,\u001b[0m \u001b[0;34m(\u001b[0m\u001b[0;34m)\u001b[0m\u001b[0;34m,\u001b[0m \u001b[0mseed_stream\u001b[0m\u001b[0;34m(\u001b[0m\u001b[0;34m)\u001b[0m\u001b[0;34m)\u001b[0m\u001b[0;34m\u001b[0m\u001b[0;34m\u001b[0m\u001b[0m\n\u001b[1;32m    117\u001b[0m \u001b[0;34m\u001b[0m\u001b[0m\n",
            "\u001b[0;32m/usr/local/lib/python3.10/dist-packages/tf_agents/policies/tf_policy.py\u001b[0m in \u001b[0;36maction\u001b[0;34m(self, time_step, policy_state, seed)\u001b[0m\n\u001b[1;32m    322\u001b[0m     \u001b[0;32mif\u001b[0m \u001b[0mself\u001b[0m\u001b[0;34m.\u001b[0m\u001b[0m_automatic_state_reset\u001b[0m\u001b[0;34m:\u001b[0m\u001b[0;34m\u001b[0m\u001b[0;34m\u001b[0m\u001b[0m\n\u001b[1;32m    323\u001b[0m       \u001b[0mpolicy_state\u001b[0m \u001b[0;34m=\u001b[0m \u001b[0mself\u001b[0m\u001b[0;34m.\u001b[0m\u001b[0m_maybe_reset_state\u001b[0m\u001b[0;34m(\u001b[0m\u001b[0mtime_step\u001b[0m\u001b[0;34m,\u001b[0m \u001b[0mpolicy_state\u001b[0m\u001b[0;34m)\u001b[0m\u001b[0;34m\u001b[0m\u001b[0;34m\u001b[0m\u001b[0m\n\u001b[0;32m--> 324\u001b[0;31m     \u001b[0mstep\u001b[0m \u001b[0;34m=\u001b[0m \u001b[0maction_fn\u001b[0m\u001b[0;34m(\u001b[0m\u001b[0mtime_step\u001b[0m\u001b[0;34m=\u001b[0m\u001b[0mtime_step\u001b[0m\u001b[0;34m,\u001b[0m \u001b[0mpolicy_state\u001b[0m\u001b[0;34m=\u001b[0m\u001b[0mpolicy_state\u001b[0m\u001b[0;34m,\u001b[0m \u001b[0mseed\u001b[0m\u001b[0;34m=\u001b[0m\u001b[0mseed\u001b[0m\u001b[0;34m)\u001b[0m\u001b[0;34m\u001b[0m\u001b[0;34m\u001b[0m\u001b[0m\n\u001b[0m\u001b[1;32m    325\u001b[0m \u001b[0;34m\u001b[0m\u001b[0m\n\u001b[1;32m    326\u001b[0m     \u001b[0;32mdef\u001b[0m \u001b[0mclip_action\u001b[0m\u001b[0;34m(\u001b[0m\u001b[0maction\u001b[0m\u001b[0;34m,\u001b[0m \u001b[0maction_spec\u001b[0m\u001b[0;34m)\u001b[0m\u001b[0;34m:\u001b[0m\u001b[0;34m\u001b[0m\u001b[0;34m\u001b[0m\u001b[0m\n",
            "\u001b[0;32m/usr/local/lib/python3.10/dist-packages/tf_agents/utils/common.py\u001b[0m in \u001b[0;36mwith_check_resource_vars\u001b[0;34m(*fn_args, **fn_kwargs)\u001b[0m\n\u001b[1;32m    186\u001b[0m         \u001b[0;31m# We're either in eager mode or in tf.function mode (no in-between); so\u001b[0m\u001b[0;34m\u001b[0m\u001b[0;34m\u001b[0m\u001b[0m\n\u001b[1;32m    187\u001b[0m         \u001b[0;31m# autodep-like behavior is already expected of fn.\u001b[0m\u001b[0;34m\u001b[0m\u001b[0;34m\u001b[0m\u001b[0m\n\u001b[0;32m--> 188\u001b[0;31m         \u001b[0;32mreturn\u001b[0m \u001b[0mfn\u001b[0m\u001b[0;34m(\u001b[0m\u001b[0;34m*\u001b[0m\u001b[0mfn_args\u001b[0m\u001b[0;34m,\u001b[0m \u001b[0;34m**\u001b[0m\u001b[0mfn_kwargs\u001b[0m\u001b[0;34m)\u001b[0m\u001b[0;34m\u001b[0m\u001b[0;34m\u001b[0m\u001b[0m\n\u001b[0m\u001b[1;32m    189\u001b[0m       \u001b[0;32mif\u001b[0m \u001b[0;32mnot\u001b[0m \u001b[0mresource_variables_enabled\u001b[0m\u001b[0;34m(\u001b[0m\u001b[0;34m)\u001b[0m\u001b[0;34m:\u001b[0m\u001b[0;34m\u001b[0m\u001b[0;34m\u001b[0m\u001b[0m\n\u001b[1;32m    190\u001b[0m         \u001b[0;32mraise\u001b[0m \u001b[0mRuntimeError\u001b[0m\u001b[0;34m(\u001b[0m\u001b[0mMISSING_RESOURCE_VARIABLES_ERROR\u001b[0m\u001b[0;34m)\u001b[0m\u001b[0;34m\u001b[0m\u001b[0;34m\u001b[0m\u001b[0m\n",
            "\u001b[0;32m/usr/local/lib/python3.10/dist-packages/tf_agents/policies/tf_policy.py\u001b[0m in \u001b[0;36m_action\u001b[0;34m(self, time_step, policy_state, seed)\u001b[0m\n\u001b[1;32m    558\u001b[0m     \"\"\"\n\u001b[1;32m    559\u001b[0m     \u001b[0mseed_stream\u001b[0m \u001b[0;34m=\u001b[0m \u001b[0mtfp\u001b[0m\u001b[0;34m.\u001b[0m\u001b[0mutil\u001b[0m\u001b[0;34m.\u001b[0m\u001b[0mSeedStream\u001b[0m\u001b[0;34m(\u001b[0m\u001b[0mseed\u001b[0m\u001b[0;34m=\u001b[0m\u001b[0mseed\u001b[0m\u001b[0;34m,\u001b[0m \u001b[0msalt\u001b[0m\u001b[0;34m=\u001b[0m\u001b[0;34m'tf_agents_tf_policy'\u001b[0m\u001b[0;34m)\u001b[0m\u001b[0;34m\u001b[0m\u001b[0;34m\u001b[0m\u001b[0m\n\u001b[0;32m--> 560\u001b[0;31m     \u001b[0mdistribution_step\u001b[0m \u001b[0;34m=\u001b[0m \u001b[0mself\u001b[0m\u001b[0;34m.\u001b[0m\u001b[0m_distribution\u001b[0m\u001b[0;34m(\u001b[0m\u001b[0mtime_step\u001b[0m\u001b[0;34m,\u001b[0m \u001b[0mpolicy_state\u001b[0m\u001b[0;34m)\u001b[0m  \u001b[0;31m# pytype: disable=wrong-arg-types\u001b[0m\u001b[0;34m\u001b[0m\u001b[0;34m\u001b[0m\u001b[0m\n\u001b[0m\u001b[1;32m    561\u001b[0m     actions = tf.nest.map_structure(\n\u001b[1;32m    562\u001b[0m         \u001b[0;32mlambda\u001b[0m \u001b[0md\u001b[0m\u001b[0;34m:\u001b[0m \u001b[0mreparameterized_sampling\u001b[0m\u001b[0;34m.\u001b[0m\u001b[0msample\u001b[0m\u001b[0;34m(\u001b[0m\u001b[0md\u001b[0m\u001b[0;34m,\u001b[0m \u001b[0mseed\u001b[0m\u001b[0;34m=\u001b[0m\u001b[0mseed_stream\u001b[0m\u001b[0;34m(\u001b[0m\u001b[0;34m)\u001b[0m\u001b[0;34m)\u001b[0m\u001b[0;34m,\u001b[0m\u001b[0;34m\u001b[0m\u001b[0;34m\u001b[0m\u001b[0m\n",
            "\u001b[0;32m/usr/local/lib/python3.10/dist-packages/tf_agents/policies/greedy_policy.py\u001b[0m in \u001b[0;36m_distribution\u001b[0;34m(self, time_step, policy_state)\u001b[0m\n\u001b[1;32m     78\u001b[0m       \u001b[0;32mreturn\u001b[0m \u001b[0mtfp\u001b[0m\u001b[0;34m.\u001b[0m\u001b[0mdistributions\u001b[0m\u001b[0;34m.\u001b[0m\u001b[0mDeterministic\u001b[0m\u001b[0;34m(\u001b[0m\u001b[0mloc\u001b[0m\u001b[0;34m=\u001b[0m\u001b[0mgreedy_action\u001b[0m\u001b[0;34m)\u001b[0m\u001b[0;34m\u001b[0m\u001b[0;34m\u001b[0m\u001b[0m\n\u001b[1;32m     79\u001b[0m \u001b[0;34m\u001b[0m\u001b[0m\n\u001b[0;32m---> 80\u001b[0;31m     distribution_step = self._wrapped_policy.distribution(\n\u001b[0m\u001b[1;32m     81\u001b[0m         time_step, policy_state)\n\u001b[1;32m     82\u001b[0m     return policy_step.PolicyStep(\n",
            "\u001b[0;32m/usr/local/lib/python3.10/dist-packages/tf_agents/policies/tf_policy.py\u001b[0m in \u001b[0;36mdistribution\u001b[0;34m(self, time_step, policy_state)\u001b[0m\n\u001b[1;32m    401\u001b[0m     \u001b[0;32mif\u001b[0m \u001b[0mself\u001b[0m\u001b[0;34m.\u001b[0m\u001b[0m_automatic_state_reset\u001b[0m\u001b[0;34m:\u001b[0m\u001b[0;34m\u001b[0m\u001b[0;34m\u001b[0m\u001b[0m\n\u001b[1;32m    402\u001b[0m       \u001b[0mpolicy_state\u001b[0m \u001b[0;34m=\u001b[0m \u001b[0mself\u001b[0m\u001b[0;34m.\u001b[0m\u001b[0m_maybe_reset_state\u001b[0m\u001b[0;34m(\u001b[0m\u001b[0mtime_step\u001b[0m\u001b[0;34m,\u001b[0m \u001b[0mpolicy_state\u001b[0m\u001b[0;34m)\u001b[0m\u001b[0;34m\u001b[0m\u001b[0;34m\u001b[0m\u001b[0m\n\u001b[0;32m--> 403\u001b[0;31m     \u001b[0mstep\u001b[0m \u001b[0;34m=\u001b[0m \u001b[0mself\u001b[0m\u001b[0;34m.\u001b[0m\u001b[0m_distribution\u001b[0m\u001b[0;34m(\u001b[0m\u001b[0mtime_step\u001b[0m\u001b[0;34m=\u001b[0m\u001b[0mtime_step\u001b[0m\u001b[0;34m,\u001b[0m \u001b[0mpolicy_state\u001b[0m\u001b[0;34m=\u001b[0m\u001b[0mpolicy_state\u001b[0m\u001b[0;34m)\u001b[0m\u001b[0;34m\u001b[0m\u001b[0;34m\u001b[0m\u001b[0m\n\u001b[0m\u001b[1;32m    404\u001b[0m     \u001b[0;32mif\u001b[0m \u001b[0mself\u001b[0m\u001b[0;34m.\u001b[0m\u001b[0memit_log_probability\u001b[0m\u001b[0;34m:\u001b[0m\u001b[0;34m\u001b[0m\u001b[0;34m\u001b[0m\u001b[0m\n\u001b[1;32m    405\u001b[0m       \u001b[0;31m# This here is set only for compatibility with info_spec in constructor.\u001b[0m\u001b[0;34m\u001b[0m\u001b[0;34m\u001b[0m\u001b[0m\n",
            "\u001b[0;32m/usr/local/lib/python3.10/dist-packages/tf_agents/policies/q_policy.py\u001b[0m in \u001b[0;36m_distribution\u001b[0;34m(self, time_step, policy_state)\u001b[0m\n\u001b[1;32m    172\u001b[0m           shift=self._flat_action_spec.minimum)\n\u001b[1;32m    173\u001b[0m     \u001b[0;32melse\u001b[0m\u001b[0;34m:\u001b[0m\u001b[0;34m\u001b[0m\u001b[0;34m\u001b[0m\u001b[0m\n\u001b[0;32m--> 174\u001b[0;31m       distribution = tfp.distributions.Categorical(\n\u001b[0m\u001b[1;32m    175\u001b[0m           \u001b[0mlogits\u001b[0m\u001b[0;34m=\u001b[0m\u001b[0mlogits\u001b[0m\u001b[0;34m,\u001b[0m\u001b[0;34m\u001b[0m\u001b[0;34m\u001b[0m\u001b[0m\n\u001b[1;32m    176\u001b[0m           dtype=self._flat_action_spec.dtype)\n",
            "\u001b[0;32m<decorator-gen-291>\u001b[0m in \u001b[0;36m__init__\u001b[0;34m(self, logits, probs, dtype, validate_args, allow_nan_stats, name)\u001b[0m\n",
            "\u001b[0;32m/usr/local/lib/python3.10/dist-packages/tensorflow_probability/python/distributions/distribution.py\u001b[0m in \u001b[0;36mwrapped_init\u001b[0;34m(***failed resolving arguments***)\u001b[0m\n\u001b[1;32m    340\u001b[0m       \u001b[0;31m# called, here is the place to do it.\u001b[0m\u001b[0;34m\u001b[0m\u001b[0;34m\u001b[0m\u001b[0m\n\u001b[1;32m    341\u001b[0m       \u001b[0mself_\u001b[0m\u001b[0;34m.\u001b[0m\u001b[0m_parameters\u001b[0m \u001b[0;34m=\u001b[0m \u001b[0;32mNone\u001b[0m\u001b[0;34m\u001b[0m\u001b[0;34m\u001b[0m\u001b[0m\n\u001b[0;32m--> 342\u001b[0;31m       \u001b[0mdefault_init\u001b[0m\u001b[0;34m(\u001b[0m\u001b[0mself_\u001b[0m\u001b[0;34m,\u001b[0m \u001b[0;34m*\u001b[0m\u001b[0margs\u001b[0m\u001b[0;34m,\u001b[0m \u001b[0;34m**\u001b[0m\u001b[0mkwargs\u001b[0m\u001b[0;34m)\u001b[0m\u001b[0;34m\u001b[0m\u001b[0;34m\u001b[0m\u001b[0m\n\u001b[0m\u001b[1;32m    343\u001b[0m       \u001b[0;31m# Note: if we ever want to override things set in `self` by subclass\u001b[0m\u001b[0;34m\u001b[0m\u001b[0;34m\u001b[0m\u001b[0m\n\u001b[1;32m    344\u001b[0m       \u001b[0;31m# `__init__`, here is the place to do it.\u001b[0m\u001b[0;34m\u001b[0m\u001b[0;34m\u001b[0m\u001b[0m\n",
            "\u001b[0;32m/usr/local/lib/python3.10/dist-packages/tensorflow_probability/python/distributions/categorical.py\u001b[0m in \u001b[0;36m__init__\u001b[0;34m(self, logits, probs, dtype, validate_args, allow_nan_stats, name)\u001b[0m\n\u001b[1;32m    193\u001b[0m       self._logits = tensor_util.convert_nonref_to_tensor(\n\u001b[1;32m    194\u001b[0m           logits, dtype_hint=prob_logit_dtype, name='logits')\n\u001b[0;32m--> 195\u001b[0;31m       super(Categorical, self).__init__(\n\u001b[0m\u001b[1;32m    196\u001b[0m           \u001b[0mdtype\u001b[0m\u001b[0;34m=\u001b[0m\u001b[0mdtype\u001b[0m\u001b[0;34m,\u001b[0m\u001b[0;34m\u001b[0m\u001b[0;34m\u001b[0m\u001b[0m\n\u001b[1;32m    197\u001b[0m           \u001b[0mreparameterization_type\u001b[0m\u001b[0;34m=\u001b[0m\u001b[0mreparameterization\u001b[0m\u001b[0;34m.\u001b[0m\u001b[0mNOT_REPARAMETERIZED\u001b[0m\u001b[0;34m,\u001b[0m\u001b[0;34m\u001b[0m\u001b[0;34m\u001b[0m\u001b[0m\n",
            "\u001b[0;32m/usr/local/lib/python3.10/dist-packages/tensorflow_probability/python/distributions/distribution.py\u001b[0m in \u001b[0;36m__init__\u001b[0;34m(self, dtype, reparameterization_type, validate_args, allow_nan_stats, parameters, graph_parents, name)\u001b[0m\n\u001b[1;32m    595\u001b[0m     \u001b[0mself\u001b[0m\u001b[0;34m.\u001b[0m\u001b[0m_parameters\u001b[0m \u001b[0;34m=\u001b[0m \u001b[0mself\u001b[0m\u001b[0;34m.\u001b[0m\u001b[0m_no_dependency\u001b[0m\u001b[0;34m(\u001b[0m\u001b[0mparameters\u001b[0m\u001b[0;34m)\u001b[0m\u001b[0;34m\u001b[0m\u001b[0;34m\u001b[0m\u001b[0m\n\u001b[1;32m    596\u001b[0m     \u001b[0mself\u001b[0m\u001b[0;34m.\u001b[0m\u001b[0m_parameters_sanitized\u001b[0m \u001b[0;34m=\u001b[0m \u001b[0;32mFalse\u001b[0m\u001b[0;34m\u001b[0m\u001b[0;34m\u001b[0m\u001b[0m\n\u001b[0;32m--> 597\u001b[0;31m     \u001b[0mself\u001b[0m\u001b[0;34m.\u001b[0m\u001b[0m_graph_parents\u001b[0m \u001b[0;34m=\u001b[0m \u001b[0mgraph_parents\u001b[0m\u001b[0;34m\u001b[0m\u001b[0;34m\u001b[0m\u001b[0m\n\u001b[0m\u001b[1;32m    598\u001b[0m     self._defer_all_assertions = (\n\u001b[1;32m    599\u001b[0m         auto_composite_tensor.is_deferred_assertion_context())\n",
            "\u001b[0;32m/usr/local/lib/python3.10/dist-packages/tensorflow/python/trackable/autotrackable.py\u001b[0m in \u001b[0;36m__setattr__\u001b[0;34m(self, name, value)\u001b[0m\n\u001b[1;32m     66\u001b[0m \u001b[0;34m\u001b[0m\u001b[0m\n\u001b[1;32m     67\u001b[0m     \u001b[0;32mif\u001b[0m \u001b[0mgetattr\u001b[0m\u001b[0;34m(\u001b[0m\u001b[0mself\u001b[0m\u001b[0;34m,\u001b[0m \u001b[0;34m\"_self_setattr_tracking\"\u001b[0m\u001b[0;34m,\u001b[0m \u001b[0;32mTrue\u001b[0m\u001b[0;34m)\u001b[0m\u001b[0;34m:\u001b[0m\u001b[0;34m\u001b[0m\u001b[0;34m\u001b[0m\u001b[0m\n\u001b[0;32m---> 68\u001b[0;31m       value = data_structures.sticky_attribute_assignment(\n\u001b[0m\u001b[1;32m     69\u001b[0m           trackable=self, value=value, name=name)\n\u001b[1;32m     70\u001b[0m     \u001b[0msuper\u001b[0m\u001b[0;34m(\u001b[0m\u001b[0mAutoTrackable\u001b[0m\u001b[0;34m,\u001b[0m \u001b[0mself\u001b[0m\u001b[0;34m)\u001b[0m\u001b[0;34m.\u001b[0m\u001b[0m__setattr__\u001b[0m\u001b[0;34m(\u001b[0m\u001b[0mname\u001b[0m\u001b[0;34m,\u001b[0m \u001b[0mvalue\u001b[0m\u001b[0;34m)\u001b[0m\u001b[0;34m\u001b[0m\u001b[0;34m\u001b[0m\u001b[0m\n",
            "\u001b[0;32m/usr/local/lib/python3.10/dist-packages/tensorflow/python/trackable/data_structures.py\u001b[0m in \u001b[0;36msticky_attribute_assignment\u001b[0;34m(trackable, name, value)\u001b[0m\n\u001b[1;32m    147\u001b[0m   \u001b[0;32melse\u001b[0m\u001b[0;34m:\u001b[0m\u001b[0;34m\u001b[0m\u001b[0;34m\u001b[0m\u001b[0m\n\u001b[1;32m    148\u001b[0m     \u001b[0madd_dependency\u001b[0m \u001b[0;34m=\u001b[0m \u001b[0;32mTrue\u001b[0m\u001b[0;34m\u001b[0m\u001b[0;34m\u001b[0m\u001b[0m\n\u001b[0;32m--> 149\u001b[0;31m   \u001b[0mvalue\u001b[0m \u001b[0;34m=\u001b[0m \u001b[0mwrap_or_unwrap\u001b[0m\u001b[0;34m(\u001b[0m\u001b[0mvalue\u001b[0m\u001b[0;34m)\u001b[0m\u001b[0;34m\u001b[0m\u001b[0;34m\u001b[0m\u001b[0m\n\u001b[0m\u001b[1;32m    150\u001b[0m   \u001b[0;32mif\u001b[0m \u001b[0;32mnot\u001b[0m \u001b[0madd_dependency\u001b[0m\u001b[0;34m:\u001b[0m\u001b[0;34m\u001b[0m\u001b[0;34m\u001b[0m\u001b[0m\n\u001b[1;32m    151\u001b[0m     \u001b[0;32mreturn\u001b[0m \u001b[0mvalue\u001b[0m\u001b[0;34m\u001b[0m\u001b[0;34m\u001b[0m\u001b[0m\n",
            "\u001b[0;32m/usr/local/lib/python3.10/dist-packages/tensorflow/python/trackable/data_structures.py\u001b[0m in \u001b[0;36mwrap_or_unwrap\u001b[0;34m(value)\u001b[0m\n\u001b[1;32m    115\u001b[0m     \u001b[0;32mreturn\u001b[0m \u001b[0m_DictWrapper\u001b[0m\u001b[0;34m(\u001b[0m\u001b[0mvalue\u001b[0m\u001b[0;34m)\u001b[0m\u001b[0;34m\u001b[0m\u001b[0;34m\u001b[0m\u001b[0m\n\u001b[1;32m    116\u001b[0m   \u001b[0;32melif\u001b[0m \u001b[0mtype\u001b[0m\u001b[0;34m(\u001b[0m\u001b[0mvalue\u001b[0m\u001b[0;34m)\u001b[0m \u001b[0;34m==\u001b[0m \u001b[0mlist\u001b[0m\u001b[0;34m:\u001b[0m\u001b[0;34m\u001b[0m\u001b[0;34m\u001b[0m\u001b[0m\n\u001b[0;32m--> 117\u001b[0;31m     \u001b[0;32mreturn\u001b[0m \u001b[0mListWrapper\u001b[0m\u001b[0;34m(\u001b[0m\u001b[0mvalue\u001b[0m\u001b[0;34m)\u001b[0m\u001b[0;34m\u001b[0m\u001b[0;34m\u001b[0m\u001b[0m\n\u001b[0m\u001b[1;32m    118\u001b[0m   \u001b[0;32melif\u001b[0m \u001b[0misinstance\u001b[0m\u001b[0;34m(\u001b[0m\u001b[0mvalue\u001b[0m\u001b[0;34m,\u001b[0m \u001b[0mtuple\u001b[0m\u001b[0;34m)\u001b[0m \u001b[0;32mand\u001b[0m \u001b[0m_should_wrap_tuple\u001b[0m\u001b[0;34m(\u001b[0m\u001b[0mvalue\u001b[0m\u001b[0;34m)\u001b[0m\u001b[0;34m:\u001b[0m\u001b[0;34m\u001b[0m\u001b[0;34m\u001b[0m\u001b[0m\n\u001b[1;32m    119\u001b[0m     \u001b[0;31m# There are trackable elements or data structures. Wrap the tuple.\u001b[0m\u001b[0;34m\u001b[0m\u001b[0;34m\u001b[0m\u001b[0m\n",
            "\u001b[0;32m/usr/local/lib/python3.10/dist-packages/tensorflow/python/trackable/data_structures.py\u001b[0m in \u001b[0;36m__init__\u001b[0;34m(self, wrapped_list)\u001b[0m\n\u001b[1;32m    482\u001b[0m     \u001b[0mself\u001b[0m\u001b[0;34m.\u001b[0m\u001b[0m_non_append_mutation_value\u001b[0m \u001b[0;34m=\u001b[0m \u001b[0;32mFalse\u001b[0m\u001b[0;34m\u001b[0m\u001b[0;34m\u001b[0m\u001b[0m\n\u001b[1;32m    483\u001b[0m     \u001b[0mself\u001b[0m\u001b[0;34m.\u001b[0m\u001b[0m_external_modification_value\u001b[0m \u001b[0;34m=\u001b[0m \u001b[0;32mFalse\u001b[0m\u001b[0;34m\u001b[0m\u001b[0;34m\u001b[0m\u001b[0m\n\u001b[0;32m--> 484\u001b[0;31m     \u001b[0msuper\u001b[0m\u001b[0;34m(\u001b[0m\u001b[0;34m)\u001b[0m\u001b[0;34m.\u001b[0m\u001b[0m__init__\u001b[0m\u001b[0;34m(\u001b[0m\u001b[0mwrapped_list\u001b[0m\u001b[0;34m)\u001b[0m\u001b[0;34m\u001b[0m\u001b[0;34m\u001b[0m\u001b[0m\n\u001b[0m\u001b[1;32m    485\u001b[0m     \u001b[0mself\u001b[0m\u001b[0;34m.\u001b[0m\u001b[0m_last_wrapped_list_snapshot\u001b[0m \u001b[0;34m=\u001b[0m \u001b[0mlist\u001b[0m\u001b[0;34m(\u001b[0m\u001b[0mself\u001b[0m\u001b[0;34m.\u001b[0m\u001b[0m_storage\u001b[0m\u001b[0;34m)\u001b[0m\u001b[0;34m\u001b[0m\u001b[0;34m\u001b[0m\u001b[0m\n\u001b[1;32m    486\u001b[0m \u001b[0;34m\u001b[0m\u001b[0m\n",
            "\u001b[0;31mKeyboardInterrupt\u001b[0m: "
          ]
        }
      ]
    },
    {
      "cell_type": "code",
      "source": [
        "# Plot the average return.\n",
        "returns = [average_return.result().numpy() for _ in range(num_episodes)]\n",
        "plt.plot(returns)\n",
        "plt.xlabel('Episode')\n",
        "plt.ylabel('Average Return')\n",
        "plt.show()"
      ],
      "metadata": {
        "colab": {
          "base_uri": "https://localhost:8080/",
          "height": 449
        },
        "id": "K-nREaB6j_Va",
        "outputId": "7db85011-2ba0-4b39-b637-f429de506299"
      },
      "execution_count": 12,
      "outputs": [
        {
          "output_type": "display_data",
          "data": {
            "text/plain": [
              "<Figure size 640x480 with 1 Axes>"
            ],
            "image/png": "[encoded data removed]"
          },
          "metadata": {}
        }
      ]
    },
    {
      "cell_type": "markdown",
      "source": [
        "## INITIALIZE BEHAVIORAL CLONING AGENT"
      ],
      "metadata": {
        "id": "q0m9HCU3XW7E"
      }
    },
    {
      "cell_type": "code",
      "source": [
        "observation_spec = tf_env.observation_spec()\n",
        "action_spec = tf_env.action_spec()"
      ],
      "metadata": {
        "id": "rh74mCYgXc7T"
      },
      "execution_count": 13,
      "outputs": []
    },
    {
      "cell_type": "code",
      "source": [
        "# Initialize the Actor Distribution Network\n",
        "actor_net = actor_distribution_network.ActorDistributionNetwork(\n",
        "    observation_spec,\n",
        "    action_spec,\n",
        "    fc_layer_params=(100,))"
      ],
      "metadata": {
        "id": "Ln2PhRZ-Xt0c"
      },
      "execution_count": 14,
      "outputs": []
    },
    {
      "cell_type": "code",
      "source": [
        "# Initialize the Behavioral Cloning Agent\n",
        "train_step_counter = tf.Variable(0)\n",
        "agent_b = BehavioralCloningAgent(\n",
        "    time_step_spec=ts.time_step_spec(observation_spec),\n",
        "    action_spec=action_spec,\n",
        "    cloning_network=actor_net,\n",
        "    optimizer=optimizer,\n",
        "    train_step_counter=train_step_counter)"
      ],
      "metadata": {
        "id": "tPxHRWElW6sS"
      },
      "execution_count": 15,
      "outputs": []
    },
    {
      "cell_type": "code",
      "source": [
        "# Convert the replay buffer to a TensorFlow dataset\n",
        "experience_dataset = training_replay_buffer.as_dataset(\n",
        "    num_parallel_calls=3,\n",
        "    sample_batch_size=64,\n",
        "    num_steps=1).prefetch(3)"
      ],
      "metadata": {
        "id": "eBRh3bA-YQyV"
      },
      "execution_count": 16,
      "outputs": []
    },
    {
      "cell_type": "code",
      "source": [
        "experience_dataset_iterator = iter(experience_dataset)"
      ],
      "metadata": {
        "id": "qi2LxXuRY9W8"
      },
      "execution_count": 17,
      "outputs": []
    },
    {
      "cell_type": "code",
      "source": [
        "# Make the Behavioral Cloning Agent's train function a TensorFlow graph function\n",
        "agent_b.train = common.function(agent_b.train)"
      ],
      "metadata": {
        "id": "_N3Lwb6JZAfi"
      },
      "execution_count": 18,
      "outputs": []
    },
    {
      "cell_type": "code",
      "source": [
        "# Run the training loop\n",
        "num_iterations = 50000  # adjust this to your needs\n",
        "# Create a list to store the loss values\n",
        "train_loss_list = []\n",
        "for i in range(num_iterations):\n",
        "    # Sample a batch of experiences from the replay buffer\n",
        "    trajectories, _ = next(experience_dataset_iterator)\n",
        "    \n",
        "    # Train the agent on the sampled experiences\n",
        "    train_loss = agent_b.train(trajectories)\n",
        "    \n",
        "    # Append the current loss value to the list\n",
        "    train_loss_list.append(train_loss.loss)\n",
        "    \n",
        "    # Print the current iteration number and the training loss every 100 iterations\n",
        "    if i % 200 == 0:\n",
        "        print('Iteration:', i, 'Training loss:', train_loss.loss.numpy())"
      ],
      "metadata": {
        "colab": {
          "base_uri": "https://localhost:8080/"
        },
        "id": "H097lx9PZEEV",
        "outputId": "650cb887-45f9-4168-b91a-973264bd9680"
      },
      "execution_count": 21,
      "outputs": [
        {
          "output_type": "stream",
          "name": "stdout",
          "text": [
            "Iteration: 0 Training loss: 0.14094016\n",
            "Iteration: 200 Training loss: 0.09786249\n",
            "Iteration: 400 Training loss: 0.14457163\n",
            "Iteration: 600 Training loss: 0.22923437\n",
            "Iteration: 800 Training loss: 0.184559\n",
            "Iteration: 1000 Training loss: 0.18796508\n",
            "Iteration: 1200 Training loss: 0.24120346\n",
            "Iteration: 1400 Training loss: 0.09568128\n",
            "Iteration: 1600 Training loss: 0.09799052\n",
            "Iteration: 1800 Training loss: 0.30332533\n",
            "Iteration: 2000 Training loss: 0.2902959\n",
            "Iteration: 2200 Training loss: 0.13998863\n",
            "Iteration: 2400 Training loss: 0.19005542\n",
            "Iteration: 2600 Training loss: 0.2348811\n",
            "Iteration: 2800 Training loss: 0.23225042\n",
            "Iteration: 3000 Training loss: 0.23646031\n",
            "Iteration: 3200 Training loss: 0.15437475\n",
            "Iteration: 3400 Training loss: 0.2750783\n",
            "Iteration: 3600 Training loss: 0.054970037\n",
            "Iteration: 3800 Training loss: 0.23832884\n",
            "Iteration: 4000 Training loss: 0.32194415\n",
            "Iteration: 4200 Training loss: 0.18631108\n",
            "Iteration: 4400 Training loss: 0.14370355\n",
            "Iteration: 4600 Training loss: 0.23054573\n",
            "Iteration: 4800 Training loss: 0.19276379\n",
            "Iteration: 5000 Training loss: 0.14573759\n",
            "Iteration: 5200 Training loss: 0.18085378\n",
            "Iteration: 5400 Training loss: 0.14812966\n",
            "Iteration: 5600 Training loss: 0.2766475\n",
            "Iteration: 5800 Training loss: 0.23505592\n",
            "Iteration: 6000 Training loss: 0.19081154\n",
            "Iteration: 6200 Training loss: 0.14608161\n",
            "Iteration: 6400 Training loss: 0.1418019\n",
            "Iteration: 6600 Training loss: 0.14563838\n",
            "Iteration: 6800 Training loss: 0.14312297\n",
            "Iteration: 7000 Training loss: 0.14815696\n",
            "Iteration: 7200 Training loss: 0.14075534\n",
            "Iteration: 7400 Training loss: 0.1364734\n",
            "Iteration: 7600 Training loss: 0.18704188\n",
            "Iteration: 7800 Training loss: 0.18498808\n",
            "Iteration: 8000 Training loss: 0.17911753\n",
            "Iteration: 8200 Training loss: 0.18941301\n",
            "Iteration: 8400 Training loss: 0.23648898\n",
            "Iteration: 8600 Training loss: 0.188618\n",
            "Iteration: 8800 Training loss: 0.29277655\n",
            "Iteration: 9000 Training loss: 0.22622883\n",
            "Iteration: 9200 Training loss: 0.23584074\n",
            "Iteration: 9400 Training loss: 0.19094539\n",
            "Iteration: 9600 Training loss: 0.18310499\n",
            "Iteration: 9800 Training loss: 0.18867955\n",
            "Iteration: 10000 Training loss: 0.18545836\n",
            "Iteration: 10200 Training loss: 0.091828436\n",
            "Iteration: 10400 Training loss: 0.09090159\n",
            "Iteration: 10600 Training loss: 0.2689049\n",
            "Iteration: 10800 Training loss: 0.102209084\n",
            "Iteration: 11000 Training loss: 0.18830094\n",
            "Iteration: 11200 Training loss: 0.14310211\n",
            "Iteration: 11400 Training loss: 0.23442164\n",
            "Iteration: 11600 Training loss: 0.13735178\n",
            "Iteration: 11800 Training loss: 0.046631187\n",
            "Iteration: 12000 Training loss: 0.149847\n",
            "Iteration: 12200 Training loss: 0.14221084\n",
            "Iteration: 12400 Training loss: 0.14419338\n",
            "Iteration: 12600 Training loss: 0.13161442\n",
            "Iteration: 12800 Training loss: 0.09198547\n",
            "Iteration: 13000 Training loss: 0.14001499\n",
            "Iteration: 13200 Training loss: 0.28432658\n",
            "Iteration: 13400 Training loss: 0.3388809\n",
            "Iteration: 13600 Training loss: 0.23531307\n",
            "Iteration: 13800 Training loss: 0.2810355\n",
            "Iteration: 14000 Training loss: 0.18276122\n",
            "Iteration: 14200 Training loss: 0.187114\n",
            "Iteration: 14400 Training loss: 0.29638597\n",
            "Iteration: 14600 Training loss: 0.2413508\n",
            "Iteration: 14800 Training loss: 0.14562693\n",
            "Iteration: 15000 Training loss: 0.23357493\n",
            "Iteration: 15200 Training loss: 0.13965963\n",
            "Iteration: 15400 Training loss: 0.38294995\n",
            "Iteration: 15600 Training loss: 0.23565426\n",
            "Iteration: 15800 Training loss: 0.22918886\n",
            "Iteration: 16000 Training loss: 0.13808152\n",
            "Iteration: 16200 Training loss: 0.27668008\n",
            "Iteration: 16400 Training loss: 0.14054786\n",
            "Iteration: 16600 Training loss: 0.19124821\n",
            "Iteration: 16800 Training loss: 0.2391116\n",
            "Iteration: 17000 Training loss: 0.18954186\n",
            "Iteration: 17200 Training loss: 0.08913076\n",
            "Iteration: 17400 Training loss: 0.13967575\n",
            "Iteration: 17600 Training loss: 0.13864811\n",
            "Iteration: 17800 Training loss: 0.10048953\n",
            "Iteration: 18000 Training loss: 0.20170552\n",
            "Iteration: 18200 Training loss: 0.14299756\n",
            "Iteration: 18400 Training loss: 0.14242518\n",
            "Iteration: 18600 Training loss: 0.08558935\n",
            "Iteration: 18800 Training loss: 0.18990295\n",
            "Iteration: 19000 Training loss: 0.23197782\n",
            "Iteration: 19200 Training loss: 0.1873834\n",
            "Iteration: 19400 Training loss: 0.13682753\n",
            "Iteration: 19600 Training loss: 0.18936408\n",
            "Iteration: 19800 Training loss: 0.13812976\n",
            "Iteration: 20000 Training loss: 0.23106475\n",
            "Iteration: 20200 Training loss: 0.18930791\n",
            "Iteration: 20400 Training loss: 0.13558301\n",
            "Iteration: 20600 Training loss: 0.19258493\n",
            "Iteration: 20800 Training loss: 0.18787844\n",
            "Iteration: 21000 Training loss: 0.14497373\n",
            "Iteration: 21200 Training loss: 0.3315153\n",
            "Iteration: 21400 Training loss: 0.27247432\n",
            "Iteration: 21600 Training loss: 0.09991345\n",
            "Iteration: 21800 Training loss: 0.094415486\n",
            "Iteration: 22000 Training loss: 0.2260965\n",
            "Iteration: 22200 Training loss: 0.28762993\n",
            "Iteration: 22400 Training loss: 0.19412903\n",
            "Iteration: 22600 Training loss: 0.14298919\n",
            "Iteration: 22800 Training loss: 0.23006418\n",
            "Iteration: 23000 Training loss: 0.08900997\n",
            "Iteration: 23200 Training loss: 0.19237442\n",
            "Iteration: 23400 Training loss: 0.14159733\n",
            "Iteration: 23600 Training loss: 0.29163882\n",
            "Iteration: 23800 Training loss: 0.22698557\n",
            "Iteration: 24000 Training loss: 0.18210438\n",
            "Iteration: 24200 Training loss: 0.2392717\n",
            "Iteration: 24400 Training loss: 0.3476694\n",
            "Iteration: 24600 Training loss: 0.09503291\n",
            "Iteration: 24800 Training loss: 0.15354343\n",
            "Iteration: 25000 Training loss: 0.22722231\n",
            "Iteration: 25200 Training loss: 0.3778262\n",
            "Iteration: 25400 Training loss: 0.14533705\n",
            "Iteration: 25600 Training loss: 0.22816652\n",
            "Iteration: 25800 Training loss: 0.22541998\n",
            "Iteration: 26000 Training loss: 0.14178368\n",
            "Iteration: 26200 Training loss: 0.14340568\n",
            "Iteration: 26400 Training loss: 0.18974188\n",
            "Iteration: 26600 Training loss: 0.05065905\n",
            "Iteration: 26800 Training loss: 0.18872891\n",
            "Iteration: 27000 Training loss: 0.0999441\n",
            "Iteration: 27200 Training loss: 0.14426015\n",
            "Iteration: 27400 Training loss: 0.27639818\n",
            "Iteration: 27600 Training loss: 0.23008613\n",
            "Iteration: 27800 Training loss: 0.09300977\n",
            "Iteration: 28000 Training loss: 0.13467692\n",
            "Iteration: 28200 Training loss: 0.1956287\n",
            "Iteration: 28400 Training loss: 0.1885826\n",
            "Iteration: 28600 Training loss: 0.19343618\n",
            "Iteration: 28800 Training loss: 0.19720854\n",
            "Iteration: 29000 Training loss: 0.36875215\n",
            "Iteration: 29200 Training loss: 0.13842715\n",
            "Iteration: 29400 Training loss: 0.23709628\n",
            "Iteration: 29600 Training loss: 0.27393585\n",
            "Iteration: 29800 Training loss: 0.27271163\n",
            "Iteration: 30000 Training loss: 0.15185371\n",
            "Iteration: 30200 Training loss: 0.09855031\n",
            "Iteration: 30400 Training loss: 0.14324771\n",
            "Iteration: 30600 Training loss: 0.10323414\n",
            "Iteration: 30800 Training loss: 0.32318223\n",
            "Iteration: 31000 Training loss: 0.27172548\n",
            "Iteration: 31200 Training loss: 0.22837968\n",
            "Iteration: 31400 Training loss: 0.2332505\n",
            "Iteration: 31600 Training loss: 0.2893889\n",
            "Iteration: 31800 Training loss: 0.2352609\n",
            "Iteration: 32000 Training loss: 0.26944855\n",
            "Iteration: 32200 Training loss: 0.050152853\n",
            "Iteration: 32400 Training loss: 0.1376119\n",
            "Iteration: 32600 Training loss: 0.089888245\n",
            "Iteration: 32800 Training loss: 0.23478937\n",
            "Iteration: 33000 Training loss: 0.18065658\n",
            "Iteration: 33200 Training loss: 0.09512183\n",
            "Iteration: 33400 Training loss: 0.09544312\n",
            "Iteration: 33600 Training loss: 0.1392756\n",
            "Iteration: 33800 Training loss: 0.13431934\n",
            "Iteration: 34000 Training loss: 0.099956095\n",
            "Iteration: 34200 Training loss: 0.29238772\n",
            "Iteration: 34400 Training loss: 0.14334469\n",
            "Iteration: 34600 Training loss: 0.101255246\n",
            "Iteration: 34800 Training loss: 0.27293897\n",
            "Iteration: 35000 Training loss: 0.14254197\n",
            "Iteration: 35200 Training loss: 0.28170642\n",
            "Iteration: 35400 Training loss: 0.23762625\n",
            "Iteration: 35600 Training loss: 0.23011696\n",
            "Iteration: 35800 Training loss: 0.28793144\n",
            "Iteration: 36000 Training loss: 0.23657256\n",
            "Iteration: 36200 Training loss: 0.36139983\n",
            "Iteration: 36400 Training loss: 0.18966536\n",
            "Iteration: 36600 Training loss: 0.1504791\n",
            "Iteration: 36800 Training loss: 0.18911682\n",
            "Iteration: 37000 Training loss: 0.27635264\n",
            "Iteration: 37200 Training loss: 0.13444172\n",
            "Iteration: 37400 Training loss: 0.18176313\n",
            "Iteration: 37600 Training loss: 0.10465883\n",
            "Iteration: 37800 Training loss: 0.23786932\n",
            "Iteration: 38000 Training loss: 0.14385617\n",
            "Iteration: 38200 Training loss: 0.18644868\n",
            "Iteration: 38400 Training loss: 0.27764982\n",
            "Iteration: 38600 Training loss: 0.33597088\n",
            "Iteration: 38800 Training loss: 0.14708564\n",
            "Iteration: 39000 Training loss: 0.23132074\n",
            "Iteration: 39200 Training loss: 0.19116318\n",
            "Iteration: 39400 Training loss: 0.18109225\n",
            "Iteration: 39600 Training loss: 0.23302007\n",
            "Iteration: 39800 Training loss: 0.22870004\n",
            "Iteration: 40000 Training loss: 0.14359114\n",
            "Iteration: 40200 Training loss: 0.22367175\n",
            "Iteration: 40400 Training loss: 0.27418512\n",
            "Iteration: 40600 Training loss: 0.18460412\n",
            "Iteration: 40800 Training loss: 0.14699386\n",
            "Iteration: 41000 Training loss: 0.3207572\n",
            "Iteration: 41200 Training loss: 0.28036183\n",
            "Iteration: 41400 Training loss: 0.1868598\n",
            "Iteration: 41600 Training loss: 0.099036366\n",
            "Iteration: 41800 Training loss: 0.042182483\n",
            "Iteration: 42000 Training loss: 0.09057796\n",
            "Iteration: 42200 Training loss: 0.13889983\n",
            "Iteration: 42400 Training loss: 0.049785964\n",
            "Iteration: 42600 Training loss: 0.2806183\n",
            "Iteration: 42800 Training loss: 0.1874418\n",
            "Iteration: 43000 Training loss: 0.13980082\n",
            "Iteration: 43200 Training loss: 0.14915815\n",
            "Iteration: 43400 Training loss: 0.13338672\n",
            "Iteration: 43600 Training loss: 0.33158228\n",
            "Iteration: 43800 Training loss: 0.18173102\n",
            "Iteration: 44000 Training loss: 0.28839406\n",
            "Iteration: 44200 Training loss: 0.09247816\n",
            "Iteration: 44400 Training loss: 0.05115809\n",
            "Iteration: 44600 Training loss: 0.1340047\n",
            "Iteration: 44800 Training loss: 0.24161917\n",
            "Iteration: 45000 Training loss: 0.19048844\n",
            "Iteration: 45200 Training loss: 0.33199596\n",
            "Iteration: 45400 Training loss: 0.22694153\n",
            "Iteration: 45600 Training loss: 0.14094216\n",
            "Iteration: 45800 Training loss: 0.22507152\n",
            "Iteration: 46000 Training loss: 0.18589582\n",
            "Iteration: 46200 Training loss: 0.13523227\n",
            "Iteration: 46400 Training loss: 0.19794704\n",
            "Iteration: 46600 Training loss: 0.23858494\n",
            "Iteration: 46800 Training loss: 0.32154787\n",
            "Iteration: 47000 Training loss: 0.1475572\n",
            "Iteration: 47200 Training loss: 0.14367759\n",
            "Iteration: 47400 Training loss: 0.22314058\n",
            "Iteration: 47600 Training loss: 0.17781831\n",
            "Iteration: 47800 Training loss: 0.19412798\n",
            "Iteration: 48000 Training loss: 0.14374357\n",
            "Iteration: 48200 Training loss: 0.22337861\n",
            "Iteration: 48400 Training loss: 0.18589786\n",
            "Iteration: 48600 Training loss: 0.24055684\n",
            "Iteration: 48800 Training loss: 0.14265215\n",
            "Iteration: 49000 Training loss: 0.25977677\n",
            "Iteration: 49200 Training loss: 0.043883473\n",
            "Iteration: 49400 Training loss: 0.18221253\n",
            "Iteration: 49600 Training loss: 0.14073119\n",
            "Iteration: 49800 Training loss: 0.29208472\n"
          ]
        }
      ]
    },
    {
      "cell_type": "code",
      "source": [
        "# TRY INTERVAL PLOT\n",
        "# After the training loop, plot the loss values\n",
        "plt.figure(figsize=(10, 5))\n",
        "plt.plot(train_loss_list)\n",
        "plt.xlabel('Iteration')\n",
        "plt.ylabel('Training Loss')\n",
        "plt.show()"
      ],
      "metadata": {
        "colab": {
          "base_uri": "https://localhost:8080/",
          "height": 465
        },
        "id": "5jm6nXSxeHjg",
        "outputId": "ab536b84-4557-42f9-feee-a915eed62d09"
      },
      "execution_count": 22,
      "outputs": [
        {
          "output_type": "display_data",
          "data": {
            "text/plain": [
              "<Figure size 1000x500 with 1 Axes>"
            ],
            "image/png": "[encoded data removed]"
          },
          "metadata": {}
        }
      ]
    },
    {
      "cell_type": "markdown",
      "source": [
        "## LET'S FIND OUT IF OUT BEHAVIORAL CLONING AGENT INTERACTS WITH CARTPOLE BETTER AFTER TRAINING ON THE REPLAY BUFFER FULL OF EEXPERIENCES"
      ],
      "metadata": {
        "id": "p5Fp7pbjkDIW"
      }
    },
    {
      "cell_type": "code",
      "source": [
        "# Create another replay buffer.\n",
        "training_replay_buffer = tf_uniform_replay_buffer.TFUniformReplayBuffer(\n",
        "    data_spec=agent.collect_data_spec,\n",
        "    batch_size=tf_env.batch_size,\n",
        "    max_length=10000)\n",
        "\n",
        "# Create list to hold rewards\n",
        "BC_rewards = []\n",
        "\n",
        "def record_rewards(trajectory):\n",
        "    BC_rewards.append(trajectory.reward)\n",
        "\n",
        "# Create a new driver that uses the agent's policy to interact with the environment.\n",
        "new_driver = DynamicStepDriver(\n",
        "    tf_env,\n",
        "    agent_b.collect_policy,\n",
        "    observers=[training_replay_buffer.add_batch, record_rewards],\n",
        "    num_steps=10000)  # Collect 10,000 steps.\n",
        "\n",
        "# Reset the environment and run the new driver.\n",
        "new_initial_time_step = tf_env.reset()\n",
        "new_driver.run(new_initial_time_step)"
      ],
      "metadata": {
        "colab": {
          "base_uri": "https://localhost:8080/"
        },
        "id": "JhpKDsDJhplY",
        "outputId": "d32fb266-8f58-43a4-9b71-fe361072befd"
      },
      "execution_count": 23,
      "outputs": [
        {
          "output_type": "execute_result",
          "data": {
            "text/plain": [
              "(TimeStep(\n",
              " {'discount': <tf.Tensor: shape=(1,), dtype=float32, numpy=array([1.], dtype=float32)>,\n",
              "  'observation': <tf.Tensor: shape=(1, 4), dtype=float32, numpy=\n",
              " array([[ 0.03014286,  1.3352253 , -0.14455193, -2.1831336 ]],\n",
              "       dtype=float32)>,\n",
              "  'reward': <tf.Tensor: shape=(1,), dtype=float32, numpy=array([1.], dtype=float32)>,\n",
              "  'step_type': <tf.Tensor: shape=(1,), dtype=int32, numpy=array([1], dtype=int32)>}),\n",
              " ())"
            ]
          },
          "metadata": {},
          "execution_count": 23
        }
      ]
    },
    {
      "cell_type": "code",
      "source": [
        "# Convert list of tensors to numpy array\n",
        "BC_rewards_array = np.array([r.numpy() for r in BC_rewards])\n",
        "\n",
        "# Plot rewards\n",
        "plt.plot(BC_rewards_array)\n",
        "plt.xlabel('Time Step')\n",
        "plt.ylabel('Reward')\n",
        "plt.show()"
      ],
      "metadata": {
        "colab": {
          "base_uri": "https://localhost:8080/",
          "height": 449
        },
        "id": "3g64eaGtkwkC",
        "outputId": "16402a63-220b-4cff-a1d2-d89a8fe49ce2"
      },
      "execution_count": 24,
      "outputs": [
        {
          "output_type": "display_data",
          "data": {
            "text/plain": [
              "<Figure size 640x480 with 1 Axes>"
            ],
            "image/png": "[encoded data removed]"
          },
          "metadata": {}
        }
      ]
    }
  ]
}